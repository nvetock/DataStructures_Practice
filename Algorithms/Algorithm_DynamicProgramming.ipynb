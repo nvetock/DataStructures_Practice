{
 "cells": [
  {
   "cell_type": "markdown",
   "id": "ca8a60c1-c3ef-4ed6-ad91-f4a525451993",
   "metadata": {},
   "source": [
    "# Dynamic Programming Algorithm\n",
    "Avoids recomputations of recursion functions by iterating, storing and reusing results instead. This splits a problem into smaller subproblems without the unconditional jump instructions being sent to the CPU."
   ]
  },
  {
   "cell_type": "code",
   "execution_count": null,
   "id": "79ba4b81-41e1-4f8d-8529-979f2e767a80",
   "metadata": {},
   "outputs": [],
   "source": []
  },
  {
   "cell_type": "code",
   "execution_count": 1,
   "id": "b2d029c4-f8e0-4966-841d-622a808cfb63",
   "metadata": {},
   "outputs": [],
   "source": [
    "def FibonacciNumber(term_index):\n",
    "    if term_index == 0:\n",
    "        return 0\n",
    "\n",
    "    previous = 0\n",
    "    current = 1\n",
    "    i = 1\n",
    "\n",
    "    while i < term_index:\n",
    "        next = previous + current\n",
    "        previous = current\n",
    "        current = next\n",
    "        i += 1\n",
    "\n",
    "    return current"
   ]
  },
  {
   "cell_type": "code",
   "execution_count": 5,
   "id": "171da4d5-bb27-42ee-8a3a-5b8a046b4c7a",
   "metadata": {},
   "outputs": [
    {
     "data": {
      "text/plain": [
       "2"
      ]
     },
     "execution_count": 5,
     "metadata": {},
     "output_type": "execute_result"
    }
   ],
   "source": [
    "FibonacciNumber(3)"
   ]
  },
  {
   "cell_type": "code",
   "execution_count": null,
   "id": "3e6a0a55-ca78-4253-a7c6-4049ede2ec30",
   "metadata": {},
   "outputs": [],
   "source": []
  },
  {
   "cell_type": "markdown",
   "id": "ee152f87-5997-4a1d-be60-5b307969e70a",
   "metadata": {},
   "source": [
    "## Longest common substring\n",
    "Takes 2 strings as input and determines longest substring that exists in both strings"
   ]
  },
  {
   "cell_type": "code",
   "execution_count": 6,
   "id": "86da7559-528d-41fc-aa5c-3d8b3003b43d",
   "metadata": {},
   "outputs": [],
   "source": [
    "def LongestSubstring_Horz(s1, s2):\n",
    "    max_length = 0\n",
    "    \n",
    "    for i in s1:\n",
    "        curr_length = 0\n",
    "        for j in s2:\n",
    "            if i == j:\n",
    "                curr_length += 1\n",
    "            else:\n",
    "                curr_length = 0\n",
    "        \n",
    "        if curr_length > max_length:\n",
    "            max_length = curr_length\n",
    "\n",
    "    return max_length"
   ]
  },
  {
   "cell_type": "code",
   "execution_count": null,
   "id": "85dc83a6-fb24-42eb-93d9-2479f1d5f5a2",
   "metadata": {},
   "outputs": [],
   "source": []
  },
  {
   "cell_type": "code",
   "execution_count": 133,
   "id": "d796b92d-a200-49f1-9a76-aea3c83a9a8b",
   "metadata": {},
   "outputs": [],
   "source": [
    "def LongestSubstring_Matrix(s1, s2):\n",
    "    matrix = [[0] * len(s2) for _ in range(len(s1))]\n",
    "    max_value_triplet = (0,0,0) # row num, col num, value\n",
    "    \n",
    "    for row in range(len(s1)):\n",
    "        for col in range(len(s2)):\n",
    "            if s1[row] == s2[col]:\n",
    "                up_left = 0\n",
    "                if row > 0 and col > 0:\n",
    "                    up_left = matrix[row - 1][col - 1]\n",
    "                    \n",
    "                matrix[row][col] = 1 + up_left\n",
    "            \n",
    "            else:\n",
    "                matrix[row][col] = 0\n",
    "            \n",
    "            if matrix[row][col] > max_value_triplet[2]:\n",
    "                max_value_triplet = (row, col, matrix[row][col])\n",
    "\n",
    "    start_index = 1 + (max_value_triplet[0] - max_value_triplet[2])\n",
    "    end_index = start_index + max_value_triplet[2]\n",
    "    print(matrix)\n",
    "    return str(s1[start_index:end_index])"
   ]
  },
  {
   "cell_type": "code",
   "execution_count": null,
   "id": "2cc26344-0c34-4ad1-92e8-01ffc76c00d6",
   "metadata": {},
   "outputs": [],
   "source": []
  },
  {
   "cell_type": "code",
   "execution_count": 134,
   "id": "c8887484-83e5-40ce-a236-f0352b3bd95c",
   "metadata": {},
   "outputs": [
    {
     "name": "stdout",
     "output_type": "stream",
     "text": [
      "[[0, 0, 0, 0, 0, 0], [0, 0, 0, 1, 1, 0], [0, 0, 0, 1, 2, 0], [0, 0, 0, 0, 0, 3]]\n"
     ]
    },
    {
     "data": {
      "text/plain": [
       "'ook'"
      ]
     },
     "execution_count": 134,
     "metadata": {},
     "output_type": "execute_result"
    }
   ],
   "source": [
    "LongestSubstring_Matrix(\"Look\", \"Zybook\")"
   ]
  },
  {
   "cell_type": "code",
   "execution_count": null,
   "id": "5236d50a-f07a-4ccc-9e78-dbc2f17a6189",
   "metadata": {},
   "outputs": [],
   "source": []
  },
  {
   "cell_type": "markdown",
   "id": "82036d06-d76b-4b20-afde-2db4608cc088",
   "metadata": {},
   "source": [
    "## 2D Arrays\n",
    "A more verbose approach to 2D arrays\n",
    "- Rows are looped first and are the list elements within the larger list (first array).\n",
    "- Columns are within the nested list elements\n",
    "\n",
    "\\\n",
    "Matrix wrapper: {}  |  Row: []  |  Column: ()\\\n",
    "{ [  ] }"
   ]
  },
  {
   "cell_type": "code",
   "execution_count": 136,
   "id": "eefd6e1a-a810-4088-a14b-f50a6f4cd9d6",
   "metadata": {},
   "outputs": [
    {
     "name": "stdout",
     "output_type": "stream",
     "text": [
      "[[0, 0, 0, 0], [0, 0, 0, 0], [0, 0, 0, 0]]\n"
     ]
    }
   ],
   "source": [
    "rows = 3\n",
    "cols = 4\n",
    "matrix_2D = []\n",
    "\n",
    "for _ in range(rows):\n",
    "    row = []\n",
    "    for _ in range(cols):\n",
    "        row.append(0)\n",
    "    matrix_2D.append(row)\n",
    "\n",
    "print(matrix_2D)"
   ]
  },
  {
   "cell_type": "code",
   "execution_count": null,
   "id": "b2541df5-25b6-4448-bf1a-32f8aa86d1ed",
   "metadata": {},
   "outputs": [],
   "source": []
  }
 ],
 "metadata": {
  "kernelspec": {
   "display_name": "Python 3 (ipykernel)",
   "language": "python",
   "name": "python3"
  },
  "language_info": {
   "codemirror_mode": {
    "name": "ipython",
    "version": 3
   },
   "file_extension": ".py",
   "mimetype": "text/x-python",
   "name": "python",
   "nbconvert_exporter": "python",
   "pygments_lexer": "ipython3",
   "version": "3.13.3"
  }
 },
 "nbformat": 4,
 "nbformat_minor": 5
}
