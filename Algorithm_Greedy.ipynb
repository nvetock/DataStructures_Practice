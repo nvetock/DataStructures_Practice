{
 "cells": [
  {
   "cell_type": "markdown",
   "id": "4a584a99-784b-4d75-b48a-1e6533368170",
   "metadata": {},
   "source": [
    "# Greedy Algorithms\n",
    "Greedy Algs prioritize speed over accuracy, choosing an optimal decision at a point in time."
   ]
  },
  {
   "cell_type": "code",
   "execution_count": null,
   "id": "3bcdff70-9d40-45c4-b1a0-992562258550",
   "metadata": {},
   "outputs": [],
   "source": []
  },
  {
   "cell_type": "markdown",
   "id": "005f0069-4c59-412c-859b-39dab7046047",
   "metadata": {},
   "source": [
    "Change making alg with integer. May / may not lead to optimal solution"
   ]
  },
  {
   "cell_type": "code",
   "execution_count": 6,
   "id": "bf414514-8d72-4f40-b6e4-7dc11e2a7979",
   "metadata": {},
   "outputs": [],
   "source": [
    "def MakeChange(amount):\n",
    "    quarter = 25\n",
    "    dime = 10\n",
    "    nickel = 5\n",
    "    penny = 1\n",
    "    change = []\n",
    "    \n",
    "    while amount >= quarter:\n",
    "        change.append(quarter)\n",
    "        amount -= quarter\n",
    "    while amount >= dime:\n",
    "        change.append(dime)\n",
    "        amount -= dime\n",
    "    while amount >= nickel:\n",
    "        change.append(nickel)\n",
    "        amount -= nickel\n",
    "    while amount >= penny:\n",
    "        change.append(penny)\n",
    "        amount -= penny\n",
    "\n",
    "    return change"
   ]
  },
  {
   "cell_type": "code",
   "execution_count": 8,
   "id": "d85365a4-3aac-4cb6-b7ef-ca08144798a5",
   "metadata": {},
   "outputs": [
    {
     "data": {
      "text/plain": [
       "[25, 25, 25, 25, 1]"
      ]
     },
     "execution_count": 8,
     "metadata": {},
     "output_type": "execute_result"
    }
   ],
   "source": [
    "MakeChange(101)"
   ]
  },
  {
   "cell_type": "code",
   "execution_count": null,
   "id": "54f2446f-b6ac-4b5d-a7d2-342e1c039d49",
   "metadata": {},
   "outputs": [],
   "source": []
  },
  {
   "cell_type": "markdown",
   "id": "0a735759-04fd-4ac4-b211-9911b8c6202a",
   "metadata": {},
   "source": [
    "## Fractional Knapsack\n",
    "Greedy solution is optimal here vs. the 0-1 knapsack problem.\\\n",
    "A 4lb, $10 item can be taken 0.5 times to fill a knapsack"
   ]
  },
  {
   "cell_type": "code",
   "execution_count": 10,
   "id": "1acad0a6-efc3-4f5d-a13f-294d4cd47db0",
   "metadata": {},
   "outputs": [],
   "source": [
    "itemList = {}"
   ]
  },
  {
   "cell_type": "code",
   "execution_count": 32,
   "id": "741893b0-57a0-4184-995a-28aef109bf4c",
   "metadata": {},
   "outputs": [],
   "source": [
    "class ItemShop:\n",
    "    def __init__(self,):\n",
    "        self.item_list = {}\n",
    "\n",
    "    def __len__(self,):\n",
    "        return len(self.item_list)\n",
    "\n",
    "    def __str__(self,):\n",
    "        result = \"Item's available: \"\n",
    "        for k in self.item_list.keys():\n",
    "            result += (k + ', ')\n",
    "        return result\n",
    "    \n",
    "    def add_item(self, item_name, value, weight):\n",
    "        if item_name in self.item_list:\n",
    "            self.item_list[item_name][\"value\"] = value\n",
    "            self.item_list[item_name][\"weight\"] = weight\n",
    "            return True\n",
    "        else:\n",
    "            self.item_list[item_name] = {\n",
    "                \"value\": value,\n",
    "                \"weight\": weight\n",
    "            }\n",
    "            return True\n",
    "        return False\n",
    "\n",
    "\n",
    "        def get_item_weight(self, item_name):\n",
    "            if item_name in self.item_list:\n",
    "                return self.item_list[item_name][\"weight\"]\n",
    "            return None\n",
    "            \n",
    "        def get_item_value(self, item_name):\n",
    "            if item_name in self.item_list:\n",
    "                return self.item_list[item_name][\"value\"]\n",
    "            return None\n",
    "        \n",
    "        def get_item_ratio(self, item_name):\n",
    "            '''\n",
    "            Returns item's (value / weight) ratio.\n",
    "            '''\n",
    "            if item_name in self.item_list:\n",
    "                return self.item_list[item_name][0] / self.item_list[item_name][1]\n",
    "            return None\n"
   ]
  },
  {
   "cell_type": "code",
   "execution_count": 33,
   "id": "4d0d2376-3f49-4f85-aa74-51aa4ff3833c",
   "metadata": {},
   "outputs": [],
   "source": [
    "shop = ItemShop()"
   ]
  },
  {
   "cell_type": "code",
   "execution_count": 34,
   "id": "6776841f-61fe-42ed-988c-1e678cb553d7",
   "metadata": {},
   "outputs": [
    {
     "data": {
      "text/plain": [
       "True"
      ]
     },
     "execution_count": 34,
     "metadata": {},
     "output_type": "execute_result"
    }
   ],
   "source": [
    "shop.add_item(\"Book\", 5, 2.5)\n",
    "shop.add_item(\"Bird\", 30, 10.0)\n",
    "shop.add_item(\"Box\", 10, 15.0)\n",
    "shop.add_item(\"Rock\", 2, 40.0)"
   ]
  },
  {
   "cell_type": "code",
   "execution_count": 35,
   "id": "32eb283f-5422-4a93-b715-885614d1a8d7",
   "metadata": {},
   "outputs": [
    {
     "name": "stdout",
     "output_type": "stream",
     "text": [
      "Item's available: Book, Bird, Box, Rock, \n"
     ]
    }
   ],
   "source": [
    "print(shop)"
   ]
  },
  {
   "cell_type": "code",
   "execution_count": null,
   "id": "2f09a10c-cd6c-44d4-99d4-5456a006d952",
   "metadata": {},
   "outputs": [],
   "source": []
  },
  {
   "cell_type": "code",
   "execution_count": null,
   "id": "d4d366af-2e2e-42b3-ad2b-c21d0818af67",
   "metadata": {},
   "outputs": [],
   "source": []
  },
  {
   "cell_type": "code",
   "execution_count": 36,
   "id": "a98ca97c-e1c3-4a85-a730-278e0c27509d",
   "metadata": {},
   "outputs": [],
   "source": [
    "class Knapsack:\n",
    "    def __init__(self,max_weight):\n",
    "        self.items = []\n",
    "        self.weight = 0.0\n",
    "        self.max_weight = max_weight"
   ]
  },
  {
   "cell_type": "code",
   "execution_count": 45,
   "id": "fbe9b557-bf84-4655-aa1b-d617cac5ccb6",
   "metadata": {},
   "outputs": [],
   "source": [
    "knap = Knapsack(50.0)"
   ]
  },
  {
   "cell_type": "code",
   "execution_count": null,
   "id": "a1a30191-76f9-427c-b838-eb736ca39d1a",
   "metadata": {},
   "outputs": [],
   "source": []
  },
  {
   "cell_type": "code",
   "execution_count": 46,
   "id": "ae525b7e-b264-44fe-a43a-731cf08b78e0",
   "metadata": {},
   "outputs": [],
   "source": [
    "def FractionalKnapsack (knapsack, itemList, itemListSize):\n",
    "    desc_itemList = sorted(itemList)\n",
    "    remaining = knapsack.max_weight\n",
    "    for item in itemList:\n",
    "        if itemList[item][\"weight\"] <= remaining:\n",
    "            knapsack.items.append({item: itemList[item]})\n",
    "            remaining -= itemList[item][\"weight\"]\n",
    "        elif remaining > 0:\n",
    "            fraction = remaining / itemList[item][\"weight\"]\n",
    "            item_to_add = {item: {\n",
    "                \"value\": (itemList[item][\"value\"] * fraction),\n",
    "                \"weight\": (itemList[item][\"weight\"] * fraction)\n",
    "            }}\n",
    "            knapsack.items.append(item_to_add)\n",
    "    "
   ]
  },
  {
   "cell_type": "code",
   "execution_count": null,
   "id": "f06f367b-b36a-4f94-baa4-7d22dd9aef38",
   "metadata": {},
   "outputs": [],
   "source": []
  },
  {
   "cell_type": "code",
   "execution_count": 47,
   "id": "bba9fc25-d3b6-4aff-a8c6-e55e3b437044",
   "metadata": {},
   "outputs": [],
   "source": [
    "FractionalKnapsack(knap, shop.item_list, len(shop))"
   ]
  },
  {
   "cell_type": "code",
   "execution_count": 48,
   "id": "1086c38c-9742-44d0-9195-c7a57cb2296e",
   "metadata": {},
   "outputs": [
    {
     "data": {
      "text/plain": [
       "<__main__.Knapsack at 0x252f274b110>"
      ]
     },
     "execution_count": 48,
     "metadata": {},
     "output_type": "execute_result"
    }
   ],
   "source": [
    "knap"
   ]
  },
  {
   "cell_type": "code",
   "execution_count": 49,
   "id": "819655c6-3e7d-48b2-8cab-dba890328cf6",
   "metadata": {},
   "outputs": [
    {
     "name": "stdout",
     "output_type": "stream",
     "text": [
      "<__main__.Knapsack object at 0x00000252F274B110>\n"
     ]
    }
   ],
   "source": [
    "print(knap)"
   ]
  },
  {
   "cell_type": "code",
   "execution_count": 50,
   "id": "b1a04dc4-83f1-48f6-955a-5e1ab93d55d4",
   "metadata": {},
   "outputs": [
    {
     "data": {
      "text/plain": [
       "[{'Book': {'value': 5, 'weight': 2.5}},\n",
       " {'Bird': {'value': 30, 'weight': 10.0}},\n",
       " {'Box': {'value': 10, 'weight': 15.0}},\n",
       " {'Rock': {'value': 1.125, 'weight': 22.5}}]"
      ]
     },
     "execution_count": 50,
     "metadata": {},
     "output_type": "execute_result"
    }
   ],
   "source": [
    "knap.items"
   ]
  },
  {
   "cell_type": "code",
   "execution_count": null,
   "id": "80b80f29-dc94-4484-b0f8-cab6bf61eed8",
   "metadata": {},
   "outputs": [],
   "source": []
  }
 ],
 "metadata": {
  "kernelspec": {
   "display_name": "Python 3 (ipykernel)",
   "language": "python",
   "name": "python3"
  },
  "language_info": {
   "codemirror_mode": {
    "name": "ipython",
    "version": 3
   },
   "file_extension": ".py",
   "mimetype": "text/x-python",
   "name": "python",
   "nbconvert_exporter": "python",
   "pygments_lexer": "ipython3",
   "version": "3.13.3"
  }
 },
 "nbformat": 4,
 "nbformat_minor": 5
}
