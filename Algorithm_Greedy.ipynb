{
 "cells": [
  {
   "cell_type": "markdown",
   "id": "4a584a99-784b-4d75-b48a-1e6533368170",
   "metadata": {},
   "source": [
    "# Greedy Algorithms"
   ]
  },
  {
   "cell_type": "code",
   "execution_count": null,
   "id": "3bcdff70-9d40-45c4-b1a0-992562258550",
   "metadata": {},
   "outputs": [],
   "source": []
  }
 ],
 "metadata": {
  "kernelspec": {
   "display_name": "Python 3 (ipykernel)",
   "language": "python",
   "name": "python3"
  },
  "language_info": {
   "codemirror_mode": {
    "name": "ipython",
    "version": 3
   },
   "file_extension": ".py",
   "mimetype": "text/x-python",
   "name": "python",
   "nbconvert_exporter": "python",
   "pygments_lexer": "ipython3",
   "version": "3.13.3"
  }
 },
 "nbformat": 4,
 "nbformat_minor": 5
}
