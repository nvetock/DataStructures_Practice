{
 "cells": [
  {
   "cell_type": "markdown",
   "id": "aa31b568-3233-40a6-bab7-3648d7a7047d",
   "metadata": {},
   "source": [
    "## Huffman Compression Algorithm"
   ]
  },
  {
   "cell_type": "markdown",
   "id": "e8e6f71a-2630-4525-a1ec-831d08030108",
   "metadata": {},
   "source": [
    "## Character Frequency"
   ]
  },
  {
   "cell_type": "code",
   "execution_count": 1,
   "id": "ddf65776-7fda-48f4-954e-cab4b5b6cbac",
   "metadata": {},
   "outputs": [],
   "source": [
    "def char_freq_table(input_string):\n",
    "    table = {}\n",
    "    for char in input_string:\n",
    "        if char in table.keys():\n",
    "            table[char] += 1\n",
    "        else:\n",
    "            table[char] = 1\n",
    "\n",
    "    return table"
   ]
  },
  {
   "cell_type": "code",
   "execution_count": 2,
   "id": "1a166a11-5378-4f88-b111-e2557c5a3cc1",
   "metadata": {},
   "outputs": [],
   "source": [
    "table1 = char_freq_table(\"Mississipi\")"
   ]
  },
  {
   "cell_type": "code",
   "execution_count": 3,
   "id": "f295adf9-1475-4cf4-a19b-35f18e8c2503",
   "metadata": {},
   "outputs": [
    {
     "data": {
      "text/plain": [
       "{'M': 1, 'i': 4, 's': 4, 'p': 1}"
      ]
     },
     "execution_count": 3,
     "metadata": {},
     "output_type": "execute_result"
    }
   ],
   "source": [
    "table1"
   ]
  },
  {
   "cell_type": "code",
   "execution_count": null,
   "id": "61f8f0d7-7994-45fe-8278-b9b7e07dcc71",
   "metadata": {},
   "outputs": [],
   "source": []
  },
  {
   "cell_type": "code",
   "execution_count": 4,
   "id": "e25fb71e-fa2d-47d1-bd0b-c5f6e486418a",
   "metadata": {},
   "outputs": [],
   "source": [
    "table2 = char_freq_table(\"APPLES AND BANANAS\")"
   ]
  },
  {
   "cell_type": "code",
   "execution_count": 5,
   "id": "45c3cb55-9c36-433e-9e85-08f1cc247b7c",
   "metadata": {},
   "outputs": [
    {
     "data": {
      "text/plain": [
       "{'A': 5, 'P': 2, 'L': 1, 'E': 1, 'S': 2, ' ': 2, 'N': 3, 'D': 1, 'B': 1}"
      ]
     },
     "execution_count": 5,
     "metadata": {},
     "output_type": "execute_result"
    }
   ],
   "source": [
    "table2"
   ]
  },
  {
   "cell_type": "code",
   "execution_count": null,
   "id": "2ae7370a-7ce2-4bea-bd54-c8160d7e1375",
   "metadata": {},
   "outputs": [],
   "source": []
  },
  {
   "cell_type": "code",
   "execution_count": null,
   "id": "f76b0a4f-3328-4c94-ab99-6b70c4ef93d9",
   "metadata": {},
   "outputs": [],
   "source": []
  },
  {
   "cell_type": "code",
   "execution_count": 6,
   "id": "dbb45e20-6432-4554-a22a-859a541f5f86",
   "metadata": {},
   "outputs": [],
   "source": [
    "import queue"
   ]
  },
  {
   "cell_type": "code",
   "execution_count": 96,
   "id": "0de27da2-cafd-4dd3-be0f-7d8615327b74",
   "metadata": {},
   "outputs": [],
   "source": [
    "class LeafNode():\n",
    "\n",
    "    def __init__(self, frequency=0, character=''):\n",
    "        self.frequency = frequency\n",
    "        self.character = character\n",
    "\n",
    "    def __str__(self,):\n",
    "        return f\"({self.character}, {self.frequency})\"\n",
    "\n",
    "    def __eq__(self,other):\n",
    "        if isinstance(other, LeafNode):\n",
    "            return self.frequency == other.frequency\n",
    "        return False\n",
    "    \n",
    "    def __lt__(self,other):\n",
    "        if isinstance(other, LeafNode):\n",
    "            return self.frequency < other.frequency\n",
    "        return False\n",
    "    \n",
    "    def __gt__(self,other):\n",
    "        if isinstance(other, LeafNode):\n",
    "            return self.frequency > other.frequency\n",
    "        return False\n",
    "\n",
    "    def set_frequency(self,num):\n",
    "        self.frequency = num\n",
    "\n",
    "    def set_character(self, char):\n",
    "        self.character = char\n",
    "\n",
    "    def set_node(self, char, freq):\n",
    "        self.frequency = freq\n",
    "        self.character = char"
   ]
  },
  {
   "cell_type": "code",
   "execution_count": 129,
   "id": "327a9fe3-f74d-4b58-b722-2ef17a4825f3",
   "metadata": {},
   "outputs": [],
   "source": [
    "class InternalNode():\n",
    "\n",
    "    def __init__(self, frequency_sum=0, leftNode=None, rightNode=None):\n",
    "        self.frequency = frequency_sum\n",
    "        self.left_child = leftNode\n",
    "        self.right_child = rightNode\n",
    "\n",
    "    def __str__(self,):\n",
    "        return f\"{self.frequency}: [{str(self.left_child)} , {str(self.right_child)}]\"\n",
    "\n",
    "    def __eq__(self,other):\n",
    "        if isinstance(other, InternalNode):\n",
    "            return self.frequency == other.frequency\n",
    "        return False\n",
    "    \n",
    "    def __lt__(self,other):\n",
    "        if isinstance(other, InternalNode):\n",
    "            return self.frequency < other.frequency\n",
    "        return False\n",
    "    \n",
    "    def __gt__(self,other):\n",
    "        if isinstance(other, InternalNode):\n",
    "            return self.frequency > other.frequency\n",
    "        return False"
   ]
  },
  {
   "cell_type": "code",
   "execution_count": 130,
   "id": "aa3b8cde-be2b-4eaf-994f-e4dd1bb76a61",
   "metadata": {},
   "outputs": [],
   "source": [
    "def HuffmanBuildTree(input_string):\n",
    "    table = char_freq_table(input_string)\n",
    "    \n",
    "    nodes = queue.PriorityQueue()\n",
    "\n",
    "    for char, freq in table.items():\n",
    "        newLeaf = LeafNode(freq, char)\n",
    "        nodes.put(newLeaf)\n",
    "\n",
    "    # Make parent nodes up to the root\n",
    "    while nodes.qsize() > 1:\n",
    "        # Dequeue lowest prio nodes\n",
    "        left = nodes.get()\n",
    "        right = nodes.get()\n",
    "\n",
    "        # Create parent with sum of two frequencies\n",
    "        freq_sum = right.frequency + left.frequency\n",
    "        parent = InternalNode(freq_sum, left, right)\n",
    "\n",
    "        nodes.put(parent)\n",
    "\n",
    "    return nodes.get()"
   ]
  },
  {
   "cell_type": "code",
   "execution_count": 136,
   "id": "9b3a5e2b-1c94-47e7-b36a-28f54a623f8a",
   "metadata": {},
   "outputs": [],
   "source": [
    "treeRoot = HuffmanBuildTree(\"BANANAS AND APPLES\")"
   ]
  },
  {
   "cell_type": "code",
   "execution_count": 137,
   "id": "602a11e0-332e-40e1-bfd0-35a8a303bf21",
   "metadata": {},
   "outputs": [
    {
     "data": {
      "text/plain": [
       "<__main__.InternalNode at 0x291a8c714f0>"
      ]
     },
     "execution_count": 137,
     "metadata": {},
     "output_type": "execute_result"
    }
   ],
   "source": [
    "treeRoot"
   ]
  },
  {
   "cell_type": "code",
   "execution_count": 138,
   "id": "2e9cc157-4c67-47cf-acfb-6741849f583c",
   "metadata": {},
   "outputs": [
    {
     "name": "stdout",
     "output_type": "stream",
     "text": [
      "18: [7: [2: [(L, 1) , (E, 1)] , 5: [( , 2) , (N, 3)]] , 11: [(A, 5) , 6: [2: [(B, 1) , (D, 1)] , 4: [(P, 2) , (S, 2)]]]]\n"
     ]
    }
   ],
   "source": [
    "print(treeRoot)"
   ]
  },
  {
   "cell_type": "code",
   "execution_count": 139,
   "id": "e56f3ca9-acb6-489d-abf4-8b6bbf26ede4",
   "metadata": {},
   "outputs": [
    {
     "name": "stdout",
     "output_type": "stream",
     "text": [
      "7: [2: [(L, 1) , (E, 1)] , 5: [( , 2) , (N, 3)]]\n"
     ]
    }
   ],
   "source": [
    "print(treeRoot.left_child)"
   ]
  },
  {
   "cell_type": "code",
   "execution_count": 140,
   "id": "50a41217-760f-4be2-886b-a807805aa85e",
   "metadata": {},
   "outputs": [
    {
     "name": "stdout",
     "output_type": "stream",
     "text": [
      "11: [(A, 5) , 6: [2: [(B, 1) , (D, 1)] , 4: [(P, 2) , (S, 2)]]]\n"
     ]
    }
   ],
   "source": [
    "print(treeRoot.right_child)"
   ]
  },
  {
   "cell_type": "code",
   "execution_count": null,
   "id": "b10708ae-a5b7-48cf-b314-0439be96c5bf",
   "metadata": {},
   "outputs": [],
   "source": []
  },
  {
   "cell_type": "code",
   "execution_count": 141,
   "id": "8ed1b264-c340-4b3a-bffc-2f531c9e7021",
   "metadata": {},
   "outputs": [],
   "source": [
    "test = LeafNode()\n",
    "test2=InternalNode()"
   ]
  },
  {
   "cell_type": "code",
   "execution_count": 143,
   "id": "b699d570-5970-48c0-a729-0ec9c8aded02",
   "metadata": {},
   "outputs": [
    {
     "data": {
      "text/plain": [
       "__main__.LeafNode"
      ]
     },
     "execution_count": 143,
     "metadata": {},
     "output_type": "execute_result"
    }
   ],
   "source": [
    "type(LeafNode())"
   ]
  },
  {
   "cell_type": "code",
   "execution_count": null,
   "id": "7f024559-9d78-43e6-b71e-30efd48516e3",
   "metadata": {},
   "outputs": [],
   "source": []
  },
  {
   "cell_type": "code",
   "execution_count": 152,
   "id": "11139796-3d8f-45d6-8b4a-163634354e36",
   "metadata": {},
   "outputs": [],
   "source": [
    "def HuffmanGetCodes(node, prefix, output):\n",
    "    if type(node) is type(LeafNode()):\n",
    "        output[node.character] = prefix\n",
    "    else:\n",
    "        HuffmanGetCodes(node.left_child, prefix + \"0\", output)\n",
    "        HuffmanGetCodes(node.right_child, prefix + \"1\", output)\n",
    "\n",
    "    return output"
   ]
  },
  {
   "cell_type": "code",
   "execution_count": null,
   "id": "c00e0ec5-a3b2-465d-b4b8-eacee4c37c65",
   "metadata": {},
   "outputs": [],
   "source": []
  },
  {
   "cell_type": "code",
   "execution_count": null,
   "id": "c958f542-8b90-4f1c-a434-d20a6c92f01c",
   "metadata": {},
   "outputs": [],
   "source": []
  },
  {
   "cell_type": "code",
   "execution_count": 153,
   "id": "8962493e-0eb2-41d9-a774-53df4147d518",
   "metadata": {},
   "outputs": [],
   "source": [
    "root = HuffmanBuildTree(\"BANANAS\")"
   ]
  },
  {
   "cell_type": "code",
   "execution_count": 154,
   "id": "3cd76a9a-46c6-4c9b-a39d-6be971030746",
   "metadata": {},
   "outputs": [],
   "source": [
    "codes = HuffmanGetCodes(root, \"\", dict())"
   ]
  },
  {
   "cell_type": "code",
   "execution_count": 155,
   "id": "5c4494a7-1c05-49ae-97a4-388eed698087",
   "metadata": {},
   "outputs": [
    {
     "data": {
      "text/plain": [
       "{'B': '00', 'S': '01', 'N': '10', 'A': '11'}"
      ]
     },
     "execution_count": 155,
     "metadata": {},
     "output_type": "execute_result"
    }
   ],
   "source": [
    "codes"
   ]
  },
  {
   "cell_type": "code",
   "execution_count": null,
   "id": "77a9af6c-b0f9-4526-965f-9f9c9eb81dea",
   "metadata": {},
   "outputs": [],
   "source": []
  },
  {
   "cell_type": "code",
   "execution_count": 156,
   "id": "36916fa0-536e-4da6-8ebc-27769ef7ae71",
   "metadata": {},
   "outputs": [],
   "source": [
    "codesTreeRoot = HuffmanGetCodes(treeRoot, \"\", dict())"
   ]
  },
  {
   "cell_type": "code",
   "execution_count": 157,
   "id": "22d1c6d3-fcf0-43d1-bcea-bc8284aab3b2",
   "metadata": {},
   "outputs": [
    {
     "data": {
      "text/plain": [
       "{'L': '000',\n",
       " 'E': '001',\n",
       " ' ': '010',\n",
       " 'N': '011',\n",
       " 'A': '10',\n",
       " 'B': '1100',\n",
       " 'D': '1101',\n",
       " 'P': '1110',\n",
       " 'S': '1111'}"
      ]
     },
     "execution_count": 157,
     "metadata": {},
     "output_type": "execute_result"
    }
   ],
   "source": [
    "codesTreeRoot"
   ]
  },
  {
   "cell_type": "code",
   "execution_count": null,
   "id": "86ca0eee-d398-4cf1-bd16-9a2fa271303b",
   "metadata": {},
   "outputs": [],
   "source": []
  }
 ],
 "metadata": {
  "kernelspec": {
   "display_name": "Python 3 (ipykernel)",
   "language": "python",
   "name": "python3"
  },
  "language_info": {
   "codemirror_mode": {
    "name": "ipython",
    "version": 3
   },
   "file_extension": ".py",
   "mimetype": "text/x-python",
   "name": "python",
   "nbconvert_exporter": "python",
   "pygments_lexer": "ipython3",
   "version": "3.13.3"
  }
 },
 "nbformat": 4,
 "nbformat_minor": 5
}
