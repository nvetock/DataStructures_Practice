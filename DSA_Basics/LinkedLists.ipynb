{
 "cells": [
  {
   "cell_type": "markdown",
   "id": "b0641aad-3aed-40c0-9f1e-2be5c7945d97",
   "metadata": {},
   "source": [
    "# Linked Lists\n",
    "## Operations\n",
    "| Operation | Description | Example starting with list: 99, 77 |\n",
    "| :-------: | :---------: | :--------------------------------: |\n",
    "| Append(list, x) | Inserts x at end of list | Append(list, 44), list: 99, 77, 44 |\n",
    "| Prepend(list, x) | Inserts x at start of list | Prepend(list, 44), list: 44, 99, 77 |\n",
    "| InsertAfter(list, w, x) | Inserts x after w | InsertAfter(list, 99, 44), list: 99, 44, 77 |\n",
    "| Remove(list, x) | Removes x | Remove(list, 77), list: 99 |\n",
    "| Search(list, x) | Returns item if found, else null | Search(list, 99), returns item 99 |\n",
    "| Print(list) | Prints list's items in order | Print(list) outputs: 99, 77 |\n",
    "| PrintReverse(list) | Prints list's items in reverse order | PrintReverse(list) outputs: 77, 99 |\n",
    "| Sort(list) | Sorts the lists items in ascending order | list becomes: 77, 99 |\n",
    "| IsEmpty(list) | Returns true if list has no items | For list 99, 77: IsEmpty(list) returns false |\n",
    "| GetLength(list) | Returns the number of items in the list | GetLength(list) returns 2 |"
   ]
  },
  {
   "cell_type": "code",
   "execution_count": null,
   "id": "a7704d3f-df46-4241-8964-6196f7b80069",
   "metadata": {},
   "outputs": [],
   "source": []
  },
  {
   "cell_type": "code",
   "execution_count": 15,
   "id": "8a889e4e-ad9a-46eb-ac5a-99226f01ef5e",
   "metadata": {},
   "outputs": [],
   "source": [
    "class Node():\n",
    "\n",
    "    def __init__(self, data=None, prev_node=None, next_node=None):\n",
    "        self.__data = data #dunder prefixed to member sets member to private\n",
    "        self.__prev_node = prev_node\n",
    "        self.__next_node = next_node\n",
    "\n",
    "    def __str__(self,):\n",
    "        return str(self.__data)\n",
    "\n",
    "    ### GETTERS\n",
    "    \n",
    "    def get_data(self,):\n",
    "        return self.__data\n",
    "\n",
    "    def get_prev(self,):\n",
    "        return self.__prev_node\n",
    "    \n",
    "    def get_next(self,):\n",
    "        return self.__next_node\n",
    "\n",
    "    ### SETTERS\n",
    "\n",
    "    def set_data(self, data):\n",
    "        self.__data = data\n",
    "\n",
    "    def set_prev(self, node):\n",
    "        self.__prev_node = node\n",
    "    \n",
    "    def set_next(self, node):\n",
    "        self.__next_node = node"
   ]
  },
  {
   "cell_type": "code",
   "execution_count": 16,
   "id": "80541816-7e4b-45e1-a7ee-b30a85e70522",
   "metadata": {},
   "outputs": [],
   "source": [
    "test = Node(data=99)"
   ]
  },
  {
   "cell_type": "code",
   "execution_count": 17,
   "id": "e44e8c80-6fef-45f6-b4b0-bb78c36883cd",
   "metadata": {},
   "outputs": [
    {
     "ename": "AttributeError",
     "evalue": "'Node' object has no attribute '__data'",
     "output_type": "error",
     "traceback": [
      "\u001b[31m---------------------------------------------------------------------------\u001b[39m",
      "\u001b[31mAttributeError\u001b[39m                            Traceback (most recent call last)",
      "\u001b[36mCell\u001b[39m\u001b[36m \u001b[39m\u001b[32mIn[17]\u001b[39m\u001b[32m, line 1\u001b[39m\n\u001b[32m----> \u001b[39m\u001b[32m1\u001b[39m \u001b[43mtest\u001b[49m\u001b[43m.\u001b[49m\u001b[43m__data\u001b[49m\n",
      "\u001b[31mAttributeError\u001b[39m: 'Node' object has no attribute '__data'"
     ]
    }
   ],
   "source": [
    "test.__data"
   ]
  },
  {
   "cell_type": "code",
   "execution_count": 18,
   "id": "711cad14-8165-4e44-a2c3-765e2ba9c0fd",
   "metadata": {},
   "outputs": [
    {
     "data": {
      "text/plain": [
       "'99'"
      ]
     },
     "execution_count": 18,
     "metadata": {},
     "output_type": "execute_result"
    }
   ],
   "source": [
    "str(test)"
   ]
  },
  {
   "cell_type": "code",
   "execution_count": 19,
   "id": "1948a1ca-5a32-4916-b626-387a27b98de0",
   "metadata": {},
   "outputs": [
    {
     "data": {
      "text/plain": [
       "99"
      ]
     },
     "execution_count": 19,
     "metadata": {},
     "output_type": "execute_result"
    }
   ],
   "source": [
    "test.get_data()"
   ]
  },
  {
   "cell_type": "code",
   "execution_count": null,
   "id": "b7bdeb92-71ed-4a1b-a2d9-5714dec0db5a",
   "metadata": {},
   "outputs": [],
   "source": []
  },
  {
   "cell_type": "code",
   "execution_count": 112,
   "id": "587c0600-c4ba-4cd7-9c7a-6057df61308d",
   "metadata": {},
   "outputs": [],
   "source": [
    "class LinkedList():\n",
    "\n",
    "    def __init__(self, head=None, tail=None, length=0, ):\n",
    "        self.head = head\n",
    "        self.tail = tail\n",
    "        self.length=length\n",
    "\n",
    "    def __len__(self,):\n",
    "        # Return the length of this list\n",
    "        return self.length\n",
    "\n",
    "    def append(self, data):\n",
    "        new_node = Node(data=data)\n",
    "        \n",
    "        if self.head is None and self.tail is None:\n",
    "            self.head = new_node\n",
    "            self.tail = new_node\n",
    "        elif self.tail is None:\n",
    "            self.tail = new_node\n",
    "        else:\n",
    "            self.tail.set_next(new_node)\n",
    "            new_node.set_prev(self.tail)\n",
    "            \n",
    "            self.tail = new_node\n",
    "        \n",
    "        self.length += 1\n",
    "\n",
    "    def prepend(self, data):\n",
    "        new_node = Node(data=data)\n",
    "        \n",
    "        if self.head is None and self.tail is None:\n",
    "            self.head = new_node\n",
    "            self.tail = new_node\n",
    "        elif self.head is None:\n",
    "            self.tail = new_node\n",
    "        else:\n",
    "            self.head.set_prev(new_node)\n",
    "            new_node.set_next(self.head)\n",
    "            \n",
    "            self.head = new_node\n",
    "\n",
    "        self.length += 1\n",
    "\n",
    "    def search(self, data):\n",
    "        curr_node = self.head\n",
    "\n",
    "        while curr_node != None:\n",
    "            if curr_node.get_data() == data:\n",
    "                print(f\"found {data}!\")\n",
    "                return curr_node\n",
    "\n",
    "            curr_node = curr_node.get_next()\n",
    "\n",
    "        print(f\"Could not find {data}. Returning...\")\n",
    "        return None"
   ]
  },
  {
   "cell_type": "code",
   "execution_count": null,
   "id": "bedec53f-23ac-4aaf-83ad-562b430f059b",
   "metadata": {},
   "outputs": [],
   "source": []
  },
  {
   "cell_type": "code",
   "execution_count": 124,
   "id": "3cb3533a-966f-4335-aea0-a312dea9440a",
   "metadata": {},
   "outputs": [],
   "source": [
    "temp_list = LinkedList()"
   ]
  },
  {
   "cell_type": "code",
   "execution_count": 125,
   "id": "1b7ff3a4-c3d9-49e2-9878-20937ff8c993",
   "metadata": {},
   "outputs": [
    {
     "data": {
      "text/plain": [
       "0"
      ]
     },
     "execution_count": 125,
     "metadata": {},
     "output_type": "execute_result"
    }
   ],
   "source": [
    "len(temp_list)"
   ]
  },
  {
   "cell_type": "code",
   "execution_count": 126,
   "id": "edd09b99-eda4-4aa9-9f0c-862ed070ffcb",
   "metadata": {},
   "outputs": [],
   "source": [
    "temp_list.append(11)"
   ]
  },
  {
   "cell_type": "code",
   "execution_count": 127,
   "id": "03215b28-864b-4d2a-a994-cd580ad372eb",
   "metadata": {},
   "outputs": [],
   "source": [
    "temp_list.append(22)"
   ]
  },
  {
   "cell_type": "code",
   "execution_count": 128,
   "id": "dea729e8-56fd-4504-8062-32f5da5da425",
   "metadata": {},
   "outputs": [],
   "source": [
    "temp_list.append(33)"
   ]
  },
  {
   "cell_type": "code",
   "execution_count": 129,
   "id": "d536213e-4428-4a08-8211-a1cc9ad05243",
   "metadata": {},
   "outputs": [],
   "source": [
    "temp_list.append(44)"
   ]
  },
  {
   "cell_type": "code",
   "execution_count": 130,
   "id": "fbdc2cc1-810d-4b63-880d-8fc820a7409c",
   "metadata": {},
   "outputs": [
    {
     "data": {
      "text/plain": [
       "22"
      ]
     },
     "execution_count": 130,
     "metadata": {},
     "output_type": "execute_result"
    }
   ],
   "source": [
    "temp_list.head.get_next().get_data()"
   ]
  },
  {
   "cell_type": "code",
   "execution_count": 131,
   "id": "651f3bf2-8aca-4dc0-9c06-10327269707c",
   "metadata": {},
   "outputs": [
    {
     "name": "stdout",
     "output_type": "stream",
     "text": [
      "found 22!\n"
     ]
    },
    {
     "data": {
      "text/plain": [
       "<__main__.Node at 0x2420fdab750>"
      ]
     },
     "execution_count": 131,
     "metadata": {},
     "output_type": "execute_result"
    }
   ],
   "source": [
    "temp_list.search(22)"
   ]
  },
  {
   "cell_type": "code",
   "execution_count": 132,
   "id": "0a47a3de-f2d8-4f43-a201-4a7eb59153e2",
   "metadata": {},
   "outputs": [
    {
     "name": "stdout",
     "output_type": "stream",
     "text": [
      "found 44!\n"
     ]
    },
    {
     "data": {
      "text/plain": [
       "<__main__.Node at 0x2420f4ef890>"
      ]
     },
     "execution_count": 132,
     "metadata": {},
     "output_type": "execute_result"
    }
   ],
   "source": [
    "temp_list.search(44)"
   ]
  },
  {
   "cell_type": "code",
   "execution_count": 133,
   "id": "fd6c9306-be01-4a5f-a718-40fb508a4401",
   "metadata": {},
   "outputs": [
    {
     "name": "stdout",
     "output_type": "stream",
     "text": [
      "Could not find 77. Returning...\n"
     ]
    }
   ],
   "source": [
    "temp_list.search(77)"
   ]
  },
  {
   "cell_type": "code",
   "execution_count": null,
   "id": "d6dc4bda-23d0-48ce-9b86-3d6270e0acdc",
   "metadata": {},
   "outputs": [],
   "source": []
  }
 ],
 "metadata": {
  "kernelspec": {
   "display_name": "Python 3 (ipykernel)",
   "language": "python",
   "name": "python3"
  },
  "language_info": {
   "codemirror_mode": {
    "name": "ipython",
    "version": 3
   },
   "file_extension": ".py",
   "mimetype": "text/x-python",
   "name": "python",
   "nbconvert_exporter": "python",
   "pygments_lexer": "ipython3",
   "version": "3.13.3"
  }
 },
 "nbformat": 4,
 "nbformat_minor": 5
}
