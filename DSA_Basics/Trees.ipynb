{
 "cells": [
  {
   "cell_type": "markdown",
   "id": "52280593-994d-4f59-a09b-498441e0be77",
   "metadata": {},
   "source": [
    "# Binary Trees\n",
    "## Basics\n",
    "In a list, each node has up to one successor. In a *binary tree*, each node has up to two children - left and right. Other relevant definitions:\n",
    "- **Leaf:** A tree node with no children\n",
    "- **Internal Node:** A node with at least one child\n",
    "- **Parent:** A node with a child is that child node's parent.\n",
    "- **Ancestor:** A node's parent, and all other parents up to the root.\n",
    "- **Root:** The one tree node with no parent (top node)\n",
    "\n",
    "## Terms\n",
    "- **Edge:** Link from a node to a child.\n",
    "- **Depth:** Number of edges on the path from root to node. Root node has depth 0.\n",
    "- **Level:** All nodes with the same depth.\n",
    "- **Height:** Tree property. Determined by largest depth of any node. Tree with one node has height = 0.\n",
    "\n",
    "```\n",
    "Tree height: 2\n",
    "Level 0        A (root)\n",
    "             /   \\\n",
    "Level 1     B     C\n",
    "Level 2   D\n",
    "```\n",
    "\n",
    "## Special Types\n",
    "- **Full Binary Tree:** If every node contains 0 or 2 children\n",
    "- **Complete Binary Tree:** If all levels, except last, contain all possible nodes and all nodes in last level are as far left as possible.\n",
    "- **Perfect Binary Tree:** If all internal nodes have 2 children and all leaf nodes are at same level"
   ]
  },
  {
   "cell_type": "code",
   "execution_count": null,
   "id": "dd595720-d0d9-40d5-b937-02425cfa6994",
   "metadata": {},
   "outputs": [],
   "source": []
  },
  {
   "cell_type": "markdown",
   "id": "7f2b0521-334c-4c40-a8a8-c2468d03662b",
   "metadata": {},
   "source": [
    "## Applications\n",
    "Hierarchical data.\n",
    "- File System\n",
    "- "
   ]
  },
  {
   "cell_type": "code",
   "execution_count": null,
   "id": "1d84de8d-0278-44ff-9429-836db94a4fbd",
   "metadata": {},
   "outputs": [],
   "source": []
  }
 ],
 "metadata": {
  "kernelspec": {
   "display_name": "Python 3 (ipykernel)",
   "language": "python",
   "name": "python3"
  },
  "language_info": {
   "codemirror_mode": {
    "name": "ipython",
    "version": 3
   },
   "file_extension": ".py",
   "mimetype": "text/x-python",
   "name": "python",
   "nbconvert_exporter": "python",
   "pygments_lexer": "ipython3",
   "version": "3.13.3"
  }
 },
 "nbformat": 4,
 "nbformat_minor": 5
}
