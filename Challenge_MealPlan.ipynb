{
 "cells": [
  {
   "cell_type": "markdown",
   "id": "82c7cab6-1c07-49da-bd62-0c413f93afdd",
   "metadata": {},
   "source": [
    "# Creating a Meal Plan\n",
    "**Specs:**\n",
    "- Total Calories must not exceed 2000\n",
    "- Plan must come as close as possible to matching target amount of calories from one of three macronutrients: protein, carbohydrates, fat\n",
    "\n",
    "If user sets goal of 30% protein, program should produce meal plan that is total of 2000 calories with 30% calories coming from protein."
   ]
  },
  {
   "cell_type": "code",
   "execution_count": null,
   "id": "fc48cbc9-984b-4178-bbc9-b66b9b95015b",
   "metadata": {},
   "outputs": [],
   "source": []
  },
  {
   "cell_type": "code",
   "execution_count": null,
   "id": "b88330de-0b0e-4576-803f-ba273924b1ad",
   "metadata": {},
   "outputs": [],
   "source": []
  },
  {
   "cell_type": "markdown",
   "id": "8a9a488c-5dbb-4df9-852e-437f6eba9a1d",
   "metadata": {},
   "source": [
    "class Food:\n",
    "    def __init__(self, name, protein, fat, carbs, calories):\n",
    "        self.name = name\n",
    "        self.protein = protein\n",
    "        self.fat = fat\n",
    "        self.carbs = carbs\n",
    "        self.calories = calories\n",
    "        self.set_fraction(1.0)\n",
    "        \n",
    "    def set_fraction(self, fraction):\n",
    "        self.fraction = fraction\n",
    "        self.protein_calories = 4 * fraction * self.protein\n",
    "        self.carbs_calories = 4 * fraction * self.carbs\n",
    "        self.fat_calories = 9 * fraction * self.fat\n",
    "        self.calories = fraction * self.calories\n",
    "        \n",
    "    def __str__(self):\n",
    "        return \"[%0.4f] %s (P=%s,C=%s,F=%s,E=%s)\" % (self.fraction, self.name, self.protein, self.carbs, self.fat, self.calories)\n",
    "        \n",
    "\n",
    "class MealPlan:\n",
    "    def __init__(self):\n",
    "        self.foods = []\n",
    "        self.total_calories = 0.0\n",
    "        self.total_protein_calories = 0.0\n",
    "        self.total_carbs_calories = 0.0\n",
    "        self.total_fat_calories = 0.0\n",
    "        \n",
    "    def add_food(self, food):\n",
    "        self.foods.append(food)\n",
    "        self.total_protein_calories += food.protein_calories\n",
    "        self.total_carbs_calories += food.carbs_calories\n",
    "        self.total_fat_calories += food.fat_calories\n",
    "        self.total_calories += food.calories\n",
    "\n",
    "    def percent_nutrient(self, nutrient): \n",
    "        if self.total_calories > 0.0:\n",
    "            return getattr(self, \"total_%s_calories\" % nutrient) / self.total_calories\n",
    "        else:\n",
    "            return 0.0\n",
    "    \n",
    "    def calories_with_food(self, food):\n",
    "        return self.total_calories + food.calories\n",
    "        \n",
    "    def percent_nutrient_with_food(self, food, nutrient):\n",
    "        if self.total_calories + food.calories > 0.0:\n",
    "            return (getattr(self, \"total_%s_calories\" % nutrient) + getattr(food, \"%s_calories\" % nutrient)) / (self.total_calories + food.calories)\n",
    "        else:\n",
    "            return 0.0\n",
    "\n",
    "    def fraction_to_fit_calories_limit(self, food, calorie_limit):\n",
    "        # Returns the fraction (0.0-1.0) of the food required to get\n",
    "        # the calorie limit.\n",
    "        return 1.0\n",
    "        \n",
    "    def fraction_to_fit_nutrient_goal(self, food, nutrient, goal):\n",
    "        # Returns the fraction (0.0-1.0) of the food required to get\n",
    "        # the nutrient goal.\n",
    "        return 1.0\n",
    "        \n",
    "    def meets_calorie_limit(self, calorie_limit, threshold):\n",
    "        # Returns True if the total calories of the current meal plan\n",
    "        # is within the specified threshold of the given calorie limit.\n",
    "        return True\n",
    "        \n",
    "    def meets_nutrient_goal(self, nutrient, goal, threshold):\n",
    "        # Returns True if the total calorie contribution (by percent) of the\n",
    "        # given nutrient ('protein', 'carbs' or 'fat') for the current\n",
    "        # meal plan is within the specified threshold of the given goal.\n",
    "        return True\n",
    "\n",
    "    def __str__(self):\n",
    "        s = \"\"\n",
    "        if len(self.foods) == 0: return \"Empty Plan\"\n",
    "        item = 1\n",
    "        for food in self.foods:\n",
    "            s += \"%d: %s\\n\" % (item, food)\n",
    "            item += 1\n",
    "        \n",
    "        s += \"Total Calories: %s\\n\" % self.total_calories\n",
    "        s += \"\\tProtein: %s\\n\" % self.percent_nutrient(\"protein\")\n",
    "        s += \"\\tCarbs: %s\\n\" % self.percent_nutrient(\"carbs\")\n",
    "        s += \"\\tFat: %s\" % self.percent_nutrient(\"fat\")\n",
    "\n",
    "        return s\n"
   ]
  },
  {
   "cell_type": "code",
   "execution_count": null,
   "id": "6ed0ad24-c36a-4b53-aa7b-b66b3ee39e46",
   "metadata": {},
   "outputs": [],
   "source": []
  },
  {
   "cell_type": "markdown",
   "id": "abf6a1ab-ebe9-4323-b88e-7d51d7109d4f",
   "metadata": {},
   "source": [
    "import sys, operator, random\n",
    "#from nutrition import Food, MealPlan\n",
    "\n",
    "# Constants to be used by the greedy algorithm.\n",
    "NUTRIENT_THRESHOLD = 0.001\n",
    "FRACTION_THRESHOLD = 0.05\n",
    "CALORIE_THRESHOLD = 0.1\n",
    "MAX_CALORIES = 2000\n",
    "\n",
    "\n",
    "def load_nutrient_data(filename):\n",
    "    # Open file, read food items one line at a time,\n",
    "    # create Food objects and append them to a list.\n",
    "    # Return the list once the entire file is processed.\n",
    "    return []\n",
    "\n",
    "def sort_food_list(foods, nutrient):\n",
    "    # Sort the food list based on the percent-by-calories of the\n",
    "    # given nutrient ('protein', 'carbs' or 'fat')\n",
    "    # The list is sorted in-place; nothing is returned.\n",
    "    pass\n",
    "    \n",
    "def create_meal_plan(foods, nutrient, goal):\n",
    "    # A greedy algorithm to create a meal plan that has MAX_CALORIES\n",
    "    # calories and the goal amount of the nutrient (e.g. 30% protein)\n",
    "    plan = MealPlan()\n",
    "    return plan\n",
    "       \n",
    "def print_menu():\n",
    "    print()\n",
    "    print(\"\\t1 - Set maximum protein\")\n",
    "    print(\"\\t2 - Set maximum carbohydrates\")\n",
    "    print(\"\\t3 - Set maximum fat\")\n",
    "    print(\"\\t4 - Exit program\")\n",
    "    print()\n",
    "\n",
    "if __name__ == \"__main__\":\n",
    "    # 1. Load the food data from the file (change this to a user\n",
    "    # prompt for the filename)\n",
    "    filename = food_data_small.txt\n",
    "    foods = load_nutrient_data(filename)\n",
    "    \n",
    "    # 2. Display menu and get user's choice. Repeat menu until a\n",
    "    # valid choice is entered by the user (1-4, inclusive).\n",
    "    \n",
    "    # 3. Prompt user for goal nutrient percent value. Repeat prompt\n",
    "    # until a valid choice is entered by the user (0-100, inclusive)\n",
    "    \n",
    "    # 4. Run greedy algorithm to create the meal plan.\n",
    "    plan = createMealPlan(foods, nutrient, goal)\n",
    "    \n",
    "    # 5. Display plan.\n",
    "    print(plan)"
   ]
  },
  {
   "cell_type": "code",
   "execution_count": null,
   "id": "32e1c694-7569-4cef-aef5-faf522e57a96",
   "metadata": {},
   "outputs": [],
   "source": []
  },
  {
   "cell_type": "code",
   "execution_count": null,
   "id": "6eb39d17-9412-466b-adc7-5efc3151b940",
   "metadata": {},
   "outputs": [],
   "source": []
  },
  {
   "cell_type": "code",
   "execution_count": null,
   "id": "e7d4dc74-a2d3-4a0c-ba6f-ff7d8f951056",
   "metadata": {},
   "outputs": [],
   "source": []
  },
  {
   "cell_type": "code",
   "execution_count": null,
   "id": "e0b6f288-bf72-4df4-adf5-0b159597da4f",
   "metadata": {},
   "outputs": [],
   "source": []
  },
  {
   "cell_type": "markdown",
   "id": "d8d17c32-1258-4fb0-ab35-1006fd3f32ce",
   "metadata": {},
   "source": [
    "## Own Implementation"
   ]
  },
  {
   "cell_type": "code",
   "execution_count": 20,
   "id": "12d59ab0-6a2b-4bb5-9f08-04d4f393a685",
   "metadata": {},
   "outputs": [],
   "source": [
    "class Food:\n",
    "    def __init__(self, name, protein, carbs, fat, calories):\n",
    "        self.name = name\n",
    "        self.protein = protein\n",
    "        self.carbs = carbs\n",
    "        self.fat = fat\n",
    "        self.calories = calories\n",
    "        self.set_fraction(1.0)\n",
    "\n",
    "    def set_fraction(self, fraction):\n",
    "        self.fraction = fraction\n",
    "        self.protein_calories = 4 * fraction * self.protein\n",
    "        self.carbs_calories = 4 * fraction * self.carbs\n",
    "        self.fat_calories = 9 * fraction * self.fat\n",
    "        self.calories = fraction * self.calories\n",
    "\n",
    "    def __str__(self,):\n",
    "        return \"[%0.4f] %s (P=%s, C=%s, F=%s, E=%s)\" % (self.fraction, self.name, self.protein, self.carbs, self.fat, self.calories) "
   ]
  },
  {
   "cell_type": "code",
   "execution_count": 8,
   "id": "07dc21e9-f92c-4c5f-ab7d-4d78b5c554a4",
   "metadata": {},
   "outputs": [],
   "source": [
    "f = Food(\"steak\", 10.0, 5.0, 3.0, 500.0)"
   ]
  },
  {
   "cell_type": "code",
   "execution_count": 9,
   "id": "6622b9f8-3e0e-473b-964c-3d803dbcb355",
   "metadata": {},
   "outputs": [
    {
     "name": "stdout",
     "output_type": "stream",
     "text": [
      "[1.0000] steak (P=10.0, C=5.0, F=3.0, E=500.0)\n"
     ]
    }
   ],
   "source": [
    "print(f)"
   ]
  },
  {
   "cell_type": "code",
   "execution_count": null,
   "id": "5378840c-059e-4e60-a99f-359b1d423870",
   "metadata": {},
   "outputs": [],
   "source": []
  },
  {
   "cell_type": "code",
   "execution_count": 9,
   "id": "ce576384-da5a-4fcf-8f12-2eb063670dc2",
   "metadata": {},
   "outputs": [],
   "source": [
    "class MealPlan:\n",
    "    def __init__(self,):\n",
    "        self.foods = []\n",
    "        self.total_calories = 0.0\n",
    "        self.total_protein_calories = 0.0\n",
    "        self.total_carbs_calories = 0.0\n",
    "        self.total_fat_calories = 0.0\n",
    "\n",
    "    def add_food(self, food):\n",
    "        self.foods.append(food)\n",
    "        self.total_protein_calories += food.protein_calories\n",
    "        self.total_carbs_calories += food.carbs_calories\n",
    "        self.total_fat_calories += food.fat_calories\n",
    "        self.total_calories += food.calories\n",
    "    \n",
    "    def percent_nutrient(self, nutrient):\n",
    "        return getattr(self, \"total_%s_calories\" % nutrient) / self.total_calories\n",
    "    \n",
    "    def percent_nutrient_with_food(self, food, nutrient):\n",
    "        curr_nutrient = getattr(self, \"total_%s_calories\" % nutrient)\n",
    "        food_nutrient = getattr(food, \"%s_calories\" % nutrient)\n",
    "        return (curr_nutrient + food_nutrient) / (self.total_calories + food.calories)\n",
    "    \n",
    "    def calories_with_food(self, food):\n",
    "        return self.total_calories + food.calories\n",
    "    \n",
    "    def __str__(self,):\n",
    "        s = \"\"\n",
    "        if len(self.foods) == 0: return \"Empty Plan\"\n",
    "        item = 1\n",
    "        for food in self.foods:\n",
    "            s += \"%d: %s\\n\" % (item, food)\n",
    "            item += 1\n",
    "        \n",
    "        s += \"Total Calories: %s\\n\" % self.total_calories\n",
    "        s += \"\\tProtein: %s\\n\" % self.percent_nutrient(\"protein\")\n",
    "        s += \"\\tCarbs: %s\\n\" % self.percent_nutrient(\"carbs\")\n",
    "        s += \"\\tFat: %s\" % self.percent_nutrient(\"fat\")\n",
    "\n",
    "        return s\n",
    "\n",
    "\n",
    "    def fraction_to_fit_calorie_limit(self, food, calorie_limit):\n",
    "        remaining_calories = self.total_calories - calorie_limit\n",
    "        food_to_remaining_cal_ratio = food.calories / remaining_calories\n",
    "        \n",
    "        if food_to_remaining_cal_ratio < 1.0:\n",
    "            return food_to_remaining_cal_ratio\n",
    "        \n",
    "        return 1.0\n",
    "\n",
    "    def fraction_to_fit_nutrient_goal(self, food, nutrient, goal):\n",
    "        #if meets_nutrient_goal(nutrient, goal, 0.1):\n",
    "        curr_nutrient = getattr(self, \"total_%s_calories\" % nutrient)\n",
    "        nutrient_serving = curr_nutrient + getattr(food, \"%s_calories\" % nutrient)\n",
    "        \n",
    "        nutrient_serving_comp = nutrient_serving / (self.total_calories + food.calories)\n",
    "        \n",
    "        goal_percent = goal / 100\n",
    "        nutrient_comp_goal = goal_percent * (self.total_calories + food.calories)\n",
    "\n",
    "        if nutrient_serving_comp < nutrient_comp_goal:\n",
    "            return (nutrient_serving_comp / nutrient_comp_goal)\n",
    "        \n",
    "        return 1.0\n",
    "        \n",
    "            \n",
    "    def meets_calorie_limit(self, calorie_limit, threshold):\n",
    "        # calorie_limit is the remaining calories within the given limit?\n",
    "        #threshold is food.calories?\n",
    "        threshold_decimal = threshold / 100\n",
    "        lower_bound = calorie_limit - threshold_decimal\n",
    "        upper_bound = calorie_limit + threshold_decimal\n",
    "        \n",
    "        #if self.total_calories >= lower_bound and self.total_calories <= upper_bound:\n",
    "        if lower_bound <= self.total_calories <= upper_bound:\n",
    "            return True\n",
    "            \n",
    "        return False\n",
    "\n",
    "    def meets_nutrient_goal(self, nutrient, goal, threshold):\n",
    "        # Get meal plan nutrient percent based on total nutrient cal / total cal\n",
    "        # Get ideal goal percent based on (goal/100) * total cal\n",
    "        # Compare the two against the threshold by curr / goal >= threshold?\n",
    "        curr_perc_decimal = getattr(self, \"total_%s_percent\" % nutrient) / self.total_calories\n",
    "        goal_perc_decimal = (goal / 100) * self.total_calories\n",
    "        threshold_decimal = threshold / 100\n",
    "        lower_bound = goal_perc_decimal - threshold_decimal\n",
    "        upper_bound = goal_perc_decimal + threshold_decimal\n",
    "        \n",
    "        #if curr_percent >= lower_bound and curr_percent <= upper_bound:\n",
    "        if lower_bound <= curr_percent <= upper_bound:\n",
    "            return True\n",
    "        \n",
    "        return False"
   ]
  },
  {
   "cell_type": "code",
   "execution_count": 12,
   "id": "04439dd9-e738-4cf2-b70a-89495c27b7f5",
   "metadata": {},
   "outputs": [],
   "source": [
    "class TestAttr:\n",
    "    def __init__(self, name, protein, fat, carbs):\n",
    "        self.name = name\n",
    "        self.protein = protein\n",
    "        self.fat = fat\n",
    "        self.carbs = carbs\n",
    "        self.divider = 100.0\n",
    "\n",
    "    def percent_nutrient(self, nutrient):\n",
    "        # getattr(self, \"%s\" % arg) is the same as making a 'self.attribute' call with any passed in arg.\n",
    "        return getattr(self, \"%s\" % nutrient) / self.divider"
   ]
  },
  {
   "cell_type": "code",
   "execution_count": 14,
   "id": "576da8da-a2c7-46dc-ad19-a64f1378f808",
   "metadata": {},
   "outputs": [],
   "source": [
    "t = TestAttr(\"egg\", 7.0, 3.5, 0.5)"
   ]
  },
  {
   "cell_type": "code",
   "execution_count": 16,
   "id": "f2e72f4d-af56-4c6a-88a8-8af6c205ad62",
   "metadata": {},
   "outputs": [
    {
     "data": {
      "text/plain": [
       "0.07"
      ]
     },
     "execution_count": 16,
     "metadata": {},
     "output_type": "execute_result"
    }
   ],
   "source": [
    "t.percent_nutrient(\"protein\")"
   ]
  },
  {
   "cell_type": "code",
   "execution_count": 1,
   "id": "ff3e83aa-33d9-4eb4-bf98-3b14793ecbfe",
   "metadata": {},
   "outputs": [
    {
     "data": {
      "text/plain": [
       "89.7"
      ]
     },
     "execution_count": 1,
     "metadata": {},
     "output_type": "execute_result"
    }
   ],
   "source": [
    "(29.9 / 100) * 300"
   ]
  },
  {
   "cell_type": "code",
   "execution_count": 3,
   "id": "fb031277-d4b0-4213-a795-d398b62d9afc",
   "metadata": {},
   "outputs": [
    {
     "data": {
      "text/plain": [
       "300.0"
      ]
     },
     "execution_count": 3,
     "metadata": {},
     "output_type": "execute_result"
    }
   ],
   "source": [
    "0.3 / 0.001"
   ]
  },
  {
   "cell_type": "code",
   "execution_count": 4,
   "id": "961a8a76-b159-487c-8fc3-27f75c764b65",
   "metadata": {},
   "outputs": [
    {
     "data": {
      "text/plain": [
       "0.299"
      ]
     },
     "execution_count": 4,
     "metadata": {},
     "output_type": "execute_result"
    }
   ],
   "source": [
    "0.3 - 0.001"
   ]
  },
  {
   "cell_type": "code",
   "execution_count": 5,
   "id": "5d357546-7bab-4eba-ab8e-b41ffd981a71",
   "metadata": {},
   "outputs": [
    {
     "data": {
      "text/plain": [
       "0.001"
      ]
     },
     "execution_count": 5,
     "metadata": {},
     "output_type": "execute_result"
    }
   ],
   "source": [
    "0.1 / 100"
   ]
  },
  {
   "cell_type": "code",
   "execution_count": 6,
   "id": "1b97a0a1-b8af-47f2-86c4-7c110523ee33",
   "metadata": {},
   "outputs": [
    {
     "data": {
      "text/plain": [
       "1999.9"
      ]
     },
     "execution_count": 6,
     "metadata": {},
     "output_type": "execute_result"
    }
   ],
   "source": [
    "2000 - .1"
   ]
  },
  {
   "cell_type": "code",
   "execution_count": 7,
   "id": "052d1cf8-0153-4c7c-9b16-7c3e661349da",
   "metadata": {},
   "outputs": [
    {
     "data": {
      "text/plain": [
       "10.0"
      ]
     },
     "execution_count": 7,
     "metadata": {},
     "output_type": "execute_result"
    }
   ],
   "source": [
    ".1*100"
   ]
  },
  {
   "cell_type": "code",
   "execution_count": null,
   "id": "f652682f-0d45-49a6-934b-e2d731633953",
   "metadata": {},
   "outputs": [],
   "source": []
  },
  {
   "cell_type": "code",
   "execution_count": null,
   "id": "feb6fa92-0b90-4209-8bdd-2bbbc319ae84",
   "metadata": {},
   "outputs": [],
   "source": []
  },
  {
   "cell_type": "markdown",
   "id": "82a52777-321a-4b5a-9e1b-2a2ff7698db5",
   "metadata": {},
   "source": [
    "## String Parsing"
   ]
  },
  {
   "cell_type": "code",
   "execution_count": 3,
   "id": "07d3c559-a092-4741-bf2c-ed3cc5d31131",
   "metadata": {},
   "outputs": [],
   "source": [
    "line_example = \"Food Info: grams_protein, grams_carbs, grams_fat, total_calories\""
   ]
  },
  {
   "cell_type": "code",
   "execution_count": 6,
   "id": "15420147-461d-4163-960a-761198948d7e",
   "metadata": {},
   "outputs": [],
   "source": [
    "food_name = line_example[:line_example.index(':')]"
   ]
  },
  {
   "cell_type": "code",
   "execution_count": 7,
   "id": "df8ac978-c2e3-4a0c-85bd-a61ab1216415",
   "metadata": {},
   "outputs": [
    {
     "data": {
      "text/plain": [
       "'Food Info'"
      ]
     },
     "execution_count": 7,
     "metadata": {},
     "output_type": "execute_result"
    }
   ],
   "source": [
    "food_name"
   ]
  },
  {
   "cell_type": "code",
   "execution_count": 14,
   "id": "e0a3bd48-ecbb-49f4-ae62-c5534d54e0bb",
   "metadata": {},
   "outputs": [
    {
     "data": {
      "text/plain": [
       "['grams_protein', 'grams_carbs', 'grams_fat', 'total_calories']"
      ]
     },
     "execution_count": 14,
     "metadata": {},
     "output_type": "execute_result"
    }
   ],
   "source": [
    "end_of_foodname = line_example.index(':')\n",
    "food_name = line_example[:end_of_foodname]\n",
    "\n",
    "food_info = line_example[end_of_foodname+1:]\n",
    "food_info.strip().split(', ')"
   ]
  },
  {
   "cell_type": "code",
   "execution_count": 17,
   "id": "fd864f9b-8df6-4651-95b1-2e50bf9f75de",
   "metadata": {},
   "outputs": [],
   "source": [
    "import re\n",
    "food_info_two = re.split(': |, ', line_example)"
   ]
  },
  {
   "cell_type": "code",
   "execution_count": 18,
   "id": "35ee80d7-2f89-430a-bc6f-c9c3d5255a31",
   "metadata": {},
   "outputs": [
    {
     "data": {
      "text/plain": [
       "['Food Info', 'grams_protein', 'grams_carbs', 'grams_fat', 'total_calories']"
      ]
     },
     "execution_count": 18,
     "metadata": {},
     "output_type": "execute_result"
    }
   ],
   "source": [
    "food_info_two"
   ]
  },
  {
   "cell_type": "code",
   "execution_count": 25,
   "id": "3550176f-7446-4aff-ad80-1a7ed16a0bec",
   "metadata": {},
   "outputs": [
    {
     "ename": "TypeError",
     "evalue": "can't multiply sequence by non-int of type 'float'",
     "output_type": "error",
     "traceback": [
      "\u001b[31m---------------------------------------------------------------------------\u001b[39m",
      "\u001b[31mTypeError\u001b[39m                                 Traceback (most recent call last)",
      "\u001b[36mCell\u001b[39m\u001b[36m \u001b[39m\u001b[32mIn[25]\u001b[39m\u001b[32m, line 1\u001b[39m\n\u001b[32m----> \u001b[39m\u001b[32m1\u001b[39m food = \u001b[43mFood\u001b[49m\u001b[43m(\u001b[49m\u001b[43mfood_info_two\u001b[49m\u001b[43m[\u001b[49m\u001b[32;43m0\u001b[39;49m\u001b[43m]\u001b[49m\u001b[43m,\u001b[49m\u001b[43m \u001b[49m\u001b[43mfood_info_two\u001b[49m\u001b[43m[\u001b[49m\u001b[32;43m1\u001b[39;49m\u001b[43m]\u001b[49m\u001b[43m,\u001b[49m\u001b[43m \u001b[49m\u001b[43mfood_info_two\u001b[49m\u001b[43m[\u001b[49m\u001b[32;43m2\u001b[39;49m\u001b[43m]\u001b[49m\u001b[43m,\u001b[49m\u001b[43m \u001b[49m\u001b[43mfood_info_two\u001b[49m\u001b[43m[\u001b[49m\u001b[32;43m3\u001b[39;49m\u001b[43m]\u001b[49m\u001b[43m,\u001b[49m\u001b[43m \u001b[49m\u001b[43mfood_info_two\u001b[49m\u001b[43m[\u001b[49m\u001b[32;43m4\u001b[39;49m\u001b[43m]\u001b[49m\u001b[43m)\u001b[49m \n",
      "\u001b[36mCell\u001b[39m\u001b[36m \u001b[39m\u001b[32mIn[20]\u001b[39m\u001b[32m, line 8\u001b[39m, in \u001b[36mFood.__init__\u001b[39m\u001b[34m(self, name, protein, carbs, fat, calories)\u001b[39m\n\u001b[32m      6\u001b[39m \u001b[38;5;28mself\u001b[39m.fat = fat\n\u001b[32m      7\u001b[39m \u001b[38;5;28mself\u001b[39m.calories = calories\n\u001b[32m----> \u001b[39m\u001b[32m8\u001b[39m \u001b[38;5;28;43mself\u001b[39;49m\u001b[43m.\u001b[49m\u001b[43mset_fraction\u001b[49m\u001b[43m(\u001b[49m\u001b[32;43m1.0\u001b[39;49m\u001b[43m)\u001b[49m\n",
      "\u001b[36mCell\u001b[39m\u001b[36m \u001b[39m\u001b[32mIn[20]\u001b[39m\u001b[32m, line 12\u001b[39m, in \u001b[36mFood.set_fraction\u001b[39m\u001b[34m(self, fraction)\u001b[39m\n\u001b[32m     10\u001b[39m \u001b[38;5;28;01mdef\u001b[39;00m\u001b[38;5;250m \u001b[39m\u001b[34mset_fraction\u001b[39m(\u001b[38;5;28mself\u001b[39m, fraction):\n\u001b[32m     11\u001b[39m     \u001b[38;5;28mself\u001b[39m.fraction = fraction\n\u001b[32m---> \u001b[39m\u001b[32m12\u001b[39m     \u001b[38;5;28mself\u001b[39m.protein_calories = \u001b[32;43m4\u001b[39;49m\u001b[43m \u001b[49m\u001b[43m*\u001b[49m\u001b[43m \u001b[49m\u001b[43mfraction\u001b[49m\u001b[43m \u001b[49m\u001b[43m*\u001b[49m\u001b[43m \u001b[49m\u001b[38;5;28;43mself\u001b[39;49m\u001b[43m.\u001b[49m\u001b[43mprotein\u001b[49m\n\u001b[32m     13\u001b[39m     \u001b[38;5;28mself\u001b[39m.carbs_calories = \u001b[32m4\u001b[39m * fraction * \u001b[38;5;28mself\u001b[39m.carbs\n\u001b[32m     14\u001b[39m     \u001b[38;5;28mself\u001b[39m.fat_calories = \u001b[32m9\u001b[39m * fraction * \u001b[38;5;28mself\u001b[39m.fat\n",
      "\u001b[31mTypeError\u001b[39m: can't multiply sequence by non-int of type 'float'"
     ]
    }
   ],
   "source": [
    "food = Food(food_info_two[0], float(food_info_two[1]), food_info_two[2], food_info_two[3], food_info_two[4]) "
   ]
  },
  {
   "cell_type": "code",
   "execution_count": null,
   "id": "465ac6e1-b583-4230-a692-47a118397cb6",
   "metadata": {},
   "outputs": [],
   "source": []
  },
  {
   "cell_type": "markdown",
   "id": "9b0acc31-c9b3-42de-a9af-593010fa9aba",
   "metadata": {},
   "source": [
    "# Valid Input Checker"
   ]
  },
  {
   "cell_type": "markdown",
   "id": "acc246f0-6c0a-469a-9cf5-b12a62cb49cc",
   "metadata": {},
   "source": [
    "try:\n",
    "    user_input = int(input('Specify a value between 1-100 inclusive'))\n",
    "except (ValueError, TypeError) as e:\n",
    "    if user_input not in range(1,101):\n",
    "        user_input = int(input('Specify a value between 1-100 inclusive'))\n",
    "\n",
    "print(f'{user_input}, thank you')"
   ]
  },
  {
   "cell_type": "code",
   "execution_count": 39,
   "id": "d13ed009-1d99-4f49-8f55-1ddabef0cfd2",
   "metadata": {},
   "outputs": [
    {
     "name": "stdin",
     "output_type": "stream",
     "text": [
      "Specify a value between 1-100 inclusive s\n",
      "Specify a value between 1-100 inclusive s\n",
      "Specify a value between 1-100 inclusive d\n",
      "Specify a value between 1-100 inclusive 105\n",
      "Specify a value between 1-100 inclusive 50\n"
     ]
    }
   ],
   "source": [
    "while True:\n",
    "    try:\n",
    "        user_input = int(input('Specify a value between 1-100 inclusive'))\n",
    "    except ValueError as e:\n",
    "        continue\n",
    "    if user_input in range(1,101):\n",
    "        break"
   ]
  },
  {
   "cell_type": "code",
   "execution_count": 40,
   "id": "570ee0f5-05fb-405a-8c81-dd101a58d700",
   "metadata": {},
   "outputs": [],
   "source": [
    "del user_input"
   ]
  },
  {
   "cell_type": "code",
   "execution_count": null,
   "id": "f531ff1d-07c3-4e23-b3ac-470c6cc9310a",
   "metadata": {},
   "outputs": [],
   "source": []
  },
  {
   "cell_type": "code",
   "execution_count": null,
   "id": "d671d5d9-b636-432c-8cb0-acc47f635c29",
   "metadata": {},
   "outputs": [],
   "source": []
  },
  {
   "cell_type": "code",
   "execution_count": 43,
   "id": "e55cd1f4-f3a6-4498-8824-a92b0c9bb8fd",
   "metadata": {},
   "outputs": [],
   "source": [
    "line = \"<Food Info>: <grams_protein>, <grams_carbs>, <grams_fat>, <total_calories>\""
   ]
  },
  {
   "cell_type": "code",
   "execution_count": 58,
   "id": "e40230ea-503e-477b-bd43-fde84ac71fa8",
   "metadata": {},
   "outputs": [],
   "source": [
    "line = \"Milk, buttermilk, dried (.25 cup / 30.0 grams): 10.2900, 1.7340, 14.7000, 116.1000\""
   ]
  },
  {
   "cell_type": "code",
   "execution_count": 65,
   "id": "43d6d746-20d1-4e25-8ec5-2ad5fc9a20ab",
   "metadata": {},
   "outputs": [],
   "source": [
    "end_of_food_desc = line.index('')\n",
    "food_name = line[:line.find(',')]\n",
    "\n",
    "food_info = line[line.rfind(':')+2:-1]\n",
    "food_info = food_info.strip().split(', ')"
   ]
  },
  {
   "cell_type": "code",
   "execution_count": 52,
   "id": "81aaac52-7987-4f3a-b787-f98015f0a606",
   "metadata": {},
   "outputs": [
    {
     "data": {
      "text/plain": [
       "'10.2900, 1.7340, 14.7000, 116.100'"
      ]
     },
     "execution_count": 52,
     "metadata": {},
     "output_type": "execute_result"
    }
   ],
   "source": [
    "line[line.rfind('  ')+2:-1]"
   ]
  },
  {
   "cell_type": "code",
   "execution_count": 55,
   "id": "def856a7-398b-4e24-b91d-adbb09d5a73a",
   "metadata": {},
   "outputs": [
    {
     "data": {
      "text/plain": [
       "'Milk'"
      ]
     },
     "execution_count": 55,
     "metadata": {},
     "output_type": "execute_result"
    }
   ],
   "source": [
    "food_name"
   ]
  },
  {
   "cell_type": "code",
   "execution_count": 56,
   "id": "2f4cae8c-d76b-40f2-be06-fece4f658ba3",
   "metadata": {},
   "outputs": [
    {
     "data": {
      "text/plain": [
       "'10.2900, 1.7340, 14.7000, 116.100'"
      ]
     },
     "execution_count": 56,
     "metadata": {},
     "output_type": "execute_result"
    }
   ],
   "source": [
    "food_info"
   ]
  },
  {
   "cell_type": "code",
   "execution_count": 63,
   "id": "034627f6-8eb4-4810-8bf3-1b8019cbbae3",
   "metadata": {},
   "outputs": [
    {
     "data": {
      "text/plain": [
       "['10.2900', '1.7340', '14.7000', '116.100']"
      ]
     },
     "execution_count": 63,
     "metadata": {},
     "output_type": "execute_result"
    }
   ],
   "source": [
    "food_info.strip().split(', ')"
   ]
  },
  {
   "cell_type": "code",
   "execution_count": 66,
   "id": "357186c4-eb8c-4d92-b988-94f0444c8475",
   "metadata": {},
   "outputs": [
    {
     "data": {
      "text/plain": [
       "['10.2900', '1.7340', '14.7000', '116.100']"
      ]
     },
     "execution_count": 66,
     "metadata": {},
     "output_type": "execute_result"
    }
   ],
   "source": [
    "food_info"
   ]
  },
  {
   "cell_type": "code",
   "execution_count": null,
   "id": "cc8618f0-6048-4d6e-ad22-e7b9e747a3be",
   "metadata": {},
   "outputs": [],
   "source": []
  },
  {
   "cell_type": "code",
   "execution_count": null,
   "id": "e27340ae-39bc-430f-a145-35af33f76db8",
   "metadata": {},
   "outputs": [],
   "source": []
  },
  {
   "cell_type": "code",
   "execution_count": 10,
   "id": "2ad9f98c-3a65-44e3-adc8-d73246200e90",
   "metadata": {},
   "outputs": [],
   "source": [
    "class TestItem:\n",
    "    def __init__(self, name='', item1=20, item2=25, item3=30):\n",
    "        self.name = name\n",
    "        self.protein = item1\n",
    "        self.carbs = item2\n",
    "        self.fat = item3\n",
    "    def __str__(self,):\n",
    "        return self.name"
   ]
  },
  {
   "cell_type": "code",
   "execution_count": 11,
   "id": "d61c94f8-9605-4562-9f6a-f8a9ac2a9f54",
   "metadata": {},
   "outputs": [],
   "source": [
    "t1 = TestItem(\"Meat\", 5, 10, 15)\n",
    "t2 = TestItem(\"Veggie\", 6, 11, 16)\n",
    "t3 = TestItem(\"Fruit\", 7, 12, 17)\n",
    "t4 = TestItem(\"Candy\", 8, 13, 18)\n",
    "l = [t1, t2, t3, t4]"
   ]
  },
  {
   "cell_type": "code",
   "execution_count": 12,
   "id": "c623c779-6335-49e1-bcc0-ada50ddc781c",
   "metadata": {},
   "outputs": [
    {
     "data": {
      "text/plain": [
       "[<__main__.TestItem at 0x13cc6904ad0>,\n",
       " <__main__.TestItem at 0x13cc62bb110>,\n",
       " <__main__.TestItem at 0x13cc6d08050>,\n",
       " <__main__.TestItem at 0x13cc613ed70>]"
      ]
     },
     "execution_count": 12,
     "metadata": {},
     "output_type": "execute_result"
    }
   ],
   "source": [
    "l"
   ]
  },
  {
   "cell_type": "code",
   "execution_count": 13,
   "id": "e486697d-a3df-47ce-ad65-092cc5cd3fb0",
   "metadata": {},
   "outputs": [
    {
     "name": "stdout",
     "output_type": "stream",
     "text": [
      "[<__main__.TestItem object at 0x0000013CC6904AD0>, <__main__.TestItem object at 0x0000013CC62BB110>, <__main__.TestItem object at 0x0000013CC6D08050>, <__main__.TestItem object at 0x0000013CC613ED70>]\n"
     ]
    }
   ],
   "source": [
    "print(l)"
   ]
  },
  {
   "cell_type": "code",
   "execution_count": null,
   "id": "d1cd4646-83e3-4688-9dd2-c87c52cf0193",
   "metadata": {},
   "outputs": [],
   "source": [
    "def sort_list(arr, nutrient):\n",
    "     = getattr(arr[0], \n",
    "    \n",
    "    arr.sort(key="
   ]
  }
 ],
 "metadata": {
  "kernelspec": {
   "display_name": "Python 3 (ipykernel)",
   "language": "python",
   "name": "python3"
  },
  "language_info": {
   "codemirror_mode": {
    "name": "ipython",
    "version": 3
   },
   "file_extension": ".py",
   "mimetype": "text/x-python",
   "name": "python",
   "nbconvert_exporter": "python",
   "pygments_lexer": "ipython3",
   "version": "3.13.3"
  }
 },
 "nbformat": 4,
 "nbformat_minor": 5
}
