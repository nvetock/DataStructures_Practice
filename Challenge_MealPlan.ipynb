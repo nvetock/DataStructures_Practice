{
 "cells": [
  {
   "cell_type": "markdown",
   "id": "82c7cab6-1c07-49da-bd62-0c413f93afdd",
   "metadata": {},
   "source": [
    "# Creating a Meal Plan\n",
    "**Specs:**\n",
    "- Total Calories must not exceed 2000\n",
    "- Plan must come as close as possible to matching target amount of calories from one of three macronutrients: protein, carbohydrates, fat\n",
    "\n",
    "If user sets goal of 30% protein, program should produce meal plan that is total of 2000 calories with 30% calories coming from protein."
   ]
  },
  {
   "cell_type": "code",
   "execution_count": null,
   "id": "fc48cbc9-984b-4178-bbc9-b66b9b95015b",
   "metadata": {},
   "outputs": [],
   "source": []
  },
  {
   "cell_type": "code",
   "execution_count": null,
   "id": "b88330de-0b0e-4576-803f-ba273924b1ad",
   "metadata": {},
   "outputs": [],
   "source": []
  },
  {
   "cell_type": "markdown",
   "id": "8a9a488c-5dbb-4df9-852e-437f6eba9a1d",
   "metadata": {},
   "source": [
    "class Food:\n",
    "    def __init__(self, name, protein, fat, carbs, calories):\n",
    "        self.name = name\n",
    "        self.protein = protein\n",
    "        self.fat = fat\n",
    "        self.carbs = carbs\n",
    "        self.calories = calories\n",
    "        self.set_fraction(1.0)\n",
    "        \n",
    "    def set_fraction(self, fraction):\n",
    "        self.fraction = fraction\n",
    "        self.protein_calories = 4 * fraction * self.protein\n",
    "        self.carbs_calories = 4 * fraction * self.carbs\n",
    "        self.fat_calories = 9 * fraction * self.fat\n",
    "        self.calories = fraction * self.calories\n",
    "        \n",
    "    def __str__(self):\n",
    "        return \"[%0.4f] %s (P=%s,C=%s,F=%s,E=%s)\" % (self.fraction, self.name, self.protein, self.carbs, self.fat, self.calories)\n",
    "        \n",
    "\n",
    "class MealPlan:\n",
    "    def __init__(self):\n",
    "        self.foods = []\n",
    "        self.total_calories = 0.0\n",
    "        self.total_protein_calories = 0.0\n",
    "        self.total_carbs_calories = 0.0\n",
    "        self.total_fat_calories = 0.0\n",
    "        \n",
    "    def add_food(self, food):\n",
    "        self.foods.append(food)\n",
    "        self.total_protein_calories += food.protein_calories\n",
    "        self.total_carbs_calories += food.carbs_calories\n",
    "        self.total_fat_calories += food.fat_calories\n",
    "        self.total_calories += food.calories\n",
    "\n",
    "    def percent_nutrient(self, nutrient): \n",
    "        if self.total_calories > 0.0:\n",
    "            return getattr(self, \"total_%s_calories\" % nutrient) / self.total_calories\n",
    "        else:\n",
    "            return 0.0\n",
    "    \n",
    "    def calories_with_food(self, food):\n",
    "        return self.total_calories + food.calories\n",
    "        \n",
    "    def percent_nutrient_with_food(self, food, nutrient):\n",
    "        if self.total_calories + food.calories > 0.0:\n",
    "            return (getattr(self, \"total_%s_calories\" % nutrient) + getattr(food, \"%s_calories\" % nutrient)) / (self.total_calories + food.calories)\n",
    "        else:\n",
    "            return 0.0\n",
    "\n",
    "    def fraction_to_fit_calories_limit(self, food, calorie_limit):\n",
    "        # Returns the fraction (0.0-1.0) of the food required to get\n",
    "        # the calorie limit.\n",
    "        return 1.0\n",
    "        \n",
    "    def fraction_to_fit_nutrient_goal(self, food, nutrient, goal):\n",
    "        # Returns the fraction (0.0-1.0) of the food required to get\n",
    "        # the nutrient goal.\n",
    "        return 1.0\n",
    "        \n",
    "    def meets_calorie_limit(self, calorie_limit, threshold):\n",
    "        # Returns True if the total calories of the current meal plan\n",
    "        # is within the specified threshold of the given calorie limit.\n",
    "        return True\n",
    "        \n",
    "    def meets_nutrient_goal(self, nutrient, goal, threshold):\n",
    "        # Returns True if the total calorie contribution (by percent) of the\n",
    "        # given nutrient ('protein', 'carbs' or 'fat') for the current\n",
    "        # meal plan is within the specified threshold of the given goal.\n",
    "        return True\n",
    "\n",
    "    def __str__(self):\n",
    "        s = \"\"\n",
    "        if len(self.foods) == 0: return \"Empty Plan\"\n",
    "        item = 1\n",
    "        for food in self.foods:\n",
    "            s += \"%d: %s\\n\" % (item, food)\n",
    "            item += 1\n",
    "        \n",
    "        s += \"Total Calories: %s\\n\" % self.total_calories\n",
    "        s += \"\\tProtein: %s\\n\" % self.percent_nutrient(\"protein\")\n",
    "        s += \"\\tCarbs: %s\\n\" % self.percent_nutrient(\"carbs\")\n",
    "        s += \"\\tFat: %s\" % self.percent_nutrient(\"fat\")\n",
    "\n",
    "        return s\n"
   ]
  },
  {
   "cell_type": "code",
   "execution_count": null,
   "id": "6ed0ad24-c36a-4b53-aa7b-b66b3ee39e46",
   "metadata": {},
   "outputs": [],
   "source": []
  },
  {
   "cell_type": "markdown",
   "id": "abf6a1ab-ebe9-4323-b88e-7d51d7109d4f",
   "metadata": {},
   "source": [
    "import sys, operator, random\n",
    "#from nutrition import Food, MealPlan\n",
    "\n",
    "# Constants to be used by the greedy algorithm.\n",
    "NUTRIENT_THRESHOLD = 0.001\n",
    "FRACTION_THRESHOLD = 0.05\n",
    "CALORIE_THRESHOLD = 0.1\n",
    "MAX_CALORIES = 2000\n",
    "\n",
    "\n",
    "def load_nutrient_data(filename):\n",
    "    # Open file, read food items one line at a time,\n",
    "    # create Food objects and append them to a list.\n",
    "    # Return the list once the entire file is processed.\n",
    "    return []\n",
    "\n",
    "def sort_food_list(foods, nutrient):\n",
    "    # Sort the food list based on the percent-by-calories of the\n",
    "    # given nutrient ('protein', 'carbs' or 'fat')\n",
    "    # The list is sorted in-place; nothing is returned.\n",
    "    pass\n",
    "    \n",
    "def create_meal_plan(foods, nutrient, goal):\n",
    "    # A greedy algorithm to create a meal plan that has MAX_CALORIES\n",
    "    # calories and the goal amount of the nutrient (e.g. 30% protein)\n",
    "    plan = MealPlan()\n",
    "    return plan\n",
    "       \n",
    "def print_menu():\n",
    "    print()\n",
    "    print(\"\\t1 - Set maximum protein\")\n",
    "    print(\"\\t2 - Set maximum carbohydrates\")\n",
    "    print(\"\\t3 - Set maximum fat\")\n",
    "    print(\"\\t4 - Exit program\")\n",
    "    print()\n",
    "\n",
    "if __name__ == \"__main__\":\n",
    "    # 1. Load the food data from the file (change this to a user\n",
    "    # prompt for the filename)\n",
    "    filename = food_data_small.txt\n",
    "    foods = load_nutrient_data(filename)\n",
    "    \n",
    "    # 2. Display menu and get user's choice. Repeat menu until a\n",
    "    # valid choice is entered by the user (1-4, inclusive).\n",
    "    \n",
    "    # 3. Prompt user for goal nutrient percent value. Repeat prompt\n",
    "    # until a valid choice is entered by the user (0-100, inclusive)\n",
    "    \n",
    "    # 4. Run greedy algorithm to create the meal plan.\n",
    "    plan = createMealPlan(foods, nutrient, goal)\n",
    "    \n",
    "    # 5. Display plan.\n",
    "    print(plan)"
   ]
  },
  {
   "cell_type": "code",
   "execution_count": null,
   "id": "32e1c694-7569-4cef-aef5-faf522e57a96",
   "metadata": {},
   "outputs": [],
   "source": []
  },
  {
   "cell_type": "code",
   "execution_count": null,
   "id": "6eb39d17-9412-466b-adc7-5efc3151b940",
   "metadata": {},
   "outputs": [],
   "source": []
  },
  {
   "cell_type": "code",
   "execution_count": null,
   "id": "e7d4dc74-a2d3-4a0c-ba6f-ff7d8f951056",
   "metadata": {},
   "outputs": [],
   "source": []
  },
  {
   "cell_type": "code",
   "execution_count": null,
   "id": "e0b6f288-bf72-4df4-adf5-0b159597da4f",
   "metadata": {},
   "outputs": [],
   "source": []
  },
  {
   "cell_type": "markdown",
   "id": "d8d17c32-1258-4fb0-ab35-1006fd3f32ce",
   "metadata": {},
   "source": [
    "## Own Implementation"
   ]
  },
  {
   "cell_type": "code",
   "execution_count": null,
   "id": "12d59ab0-6a2b-4bb5-9f08-04d4f393a685",
   "metadata": {},
   "outputs": [],
   "source": [
    "class Food:\n",
    "    def __init__(self, name, protein, carbs, fat, calories):\n",
    "        self.name = name\n",
    "        self.protein = protein\n",
    "        self.carbs = carbs\n",
    "        self.fat = fat\n",
    "        self.calories = calories\n",
    "        self.set_fraction(1.0)\n",
    "\n",
    "    def set_fraction(self, fraction):\n",
    "        self.fraction = fraction\n",
    "        self.protein_calories = 4 * fraction * self.protein\n",
    "        self.carbs_calories = 4 * fraction * self.carbs\n",
    "        self.fat_calories = 9 * fraction * self.fat\n",
    "        self.calories = fraction * self.calories\n",
    "\n",
    "    def __str__(self,):\n",
    "        return \"[%0.4f] %s (P=%s, C=%s, F=%s, E=%s)\" % (self.fraction, self.name, self.protein, self.carbs, self.fat, self.calories) "
   ]
  },
  {
   "cell_type": "code",
   "execution_count": 8,
   "id": "07dc21e9-f92c-4c5f-ab7d-4d78b5c554a4",
   "metadata": {},
   "outputs": [],
   "source": [
    "f = Food(\"steak\", 10.0, 5.0, 3.0, 500.0)"
   ]
  },
  {
   "cell_type": "code",
   "execution_count": 9,
   "id": "6622b9f8-3e0e-473b-964c-3d803dbcb355",
   "metadata": {},
   "outputs": [
    {
     "name": "stdout",
     "output_type": "stream",
     "text": [
      "[1.0000] steak (P=10.0, C=5.0, F=3.0, E=500.0)\n"
     ]
    }
   ],
   "source": [
    "print(f)"
   ]
  },
  {
   "cell_type": "code",
   "execution_count": null,
   "id": "5378840c-059e-4e60-a99f-359b1d423870",
   "metadata": {},
   "outputs": [],
   "source": []
  },
  {
   "cell_type": "code",
   "execution_count": null,
   "id": "ce576384-da5a-4fcf-8f12-2eb063670dc2",
   "metadata": {},
   "outputs": [],
   "source": [
    "class MealPlan:\n",
    "    def __init__(self,):\n",
    "        self.foods = []\n",
    "        self.total_calories = 0.0\n",
    "        self.total_protein_calories = 0.0\n",
    "        self.total_carbs_calories = 0.0\n",
    "        self.total_fat_calories = 0.0\n",
    "\n",
    "    def add_food(self, food):\n",
    "        self.foods.append(food)\n",
    "        self.total_protein_calories += food.protein_calories\n",
    "        self.total_carbs_calories += food.carbs_calories\n",
    "        self.total_fat_calories += food.fat_calories\n",
    "        self.total_calories += food.calories\n",
    "    \n",
    "    def percent_nutrient(self, nutrient):\n",
    "        return getattr(self, \"total_%s_calories\" % nutrient) / self.total_calories\n",
    "    \n",
    "    def percent_nutrient_with_food(self, food, nutrient):\n",
    "        curr_nutrient = getattr(self, \"total_%s_calories\" % nutrient)\n",
    "        food_nutrient = getattr(food, \"%s_calories\" % nutrient)\n",
    "        return (curr_nutrient + food_nutrient) / (self.total_calories + food.calories)\n",
    "    \n",
    "    def calories_with_food(self, food):\n",
    "        return self.total_calories + food.calories\n",
    "    \n",
    "    def __str__(self,):\n",
    "        s = \"\"\n",
    "        if len(self.foods) == 0: return \"Empty Plan\"\n",
    "        item = 1\n",
    "        for food in self.foods:\n",
    "            s += \"%d: %s\\n\" % (item, food)\n",
    "            item += 1\n",
    "        \n",
    "        s += \"Total Calories: %s\\n\" % self.total_calories\n",
    "        s += \"\\tProtein: %s\\n\" % self.percent_nutrient(\"protein\")\n",
    "        s += \"\\tCarbs: %s\\n\" % self.percent_nutrient(\"carbs\")\n",
    "        s += \"\\tFat: %s\" % self.percent_nutrient(\"fat\")\n",
    "\n",
    "        return s\n",
    "\n",
    "\n",
    "    def fraction_to_fit_calorie_limit(self, food, calorie_limit):\n",
    "        remaining_calories = calorie_limit - self.total_calories\n",
    "        if meets_calorie_limit(remaining_calories, food.calories)\n",
    "        \n",
    "        if food.calories < remaining_calories:\n",
    "            return 1.0\n",
    "        else:\n",
    "            return food.calories / remaining_calories\n",
    "\n",
    "    def fraction_to_fit_nutrient_goal(self, food, nutrient, goal):\n",
    "        pass\n",
    "    def meets_calorie_limit(self, calorie_limit, threshold):\n",
    "        # calorie_limit is the remaining calories within the given limit?\n",
    "        #threshold is food.calories?\n",
    "        if calorie_limit > threshold:\n",
    "            return True\n",
    "            \n",
    "        return False\n",
    "\n",
    "    def meets_nutrient_goal(self, nutrient, goal, threshold):\n",
    "        pass"
   ]
  },
  {
   "cell_type": "code",
   "execution_count": 12,
   "id": "04439dd9-e738-4cf2-b70a-89495c27b7f5",
   "metadata": {},
   "outputs": [],
   "source": [
    "class TestAttr:\n",
    "    def __init__(self, name, protein, fat, carbs):\n",
    "        self.name = name\n",
    "        self.protein = protein\n",
    "        self.fat = fat\n",
    "        self.carbs = carbs\n",
    "        self.divider = 100.0\n",
    "\n",
    "    def percent_nutrient(self, nutrient):\n",
    "        # getattr(self, \"%s\" % arg) is the same as making a 'self.attribute' call with any passed in arg.\n",
    "        return getattr(self, \"%s\" % nutrient) / self.divider"
   ]
  },
  {
   "cell_type": "code",
   "execution_count": 14,
   "id": "576da8da-a2c7-46dc-ad19-a64f1378f808",
   "metadata": {},
   "outputs": [],
   "source": [
    "t = TestAttr(\"egg\", 7.0, 3.5, 0.5)"
   ]
  },
  {
   "cell_type": "code",
   "execution_count": 16,
   "id": "f2e72f4d-af56-4c6a-88a8-8af6c205ad62",
   "metadata": {},
   "outputs": [
    {
     "data": {
      "text/plain": [
       "0.07"
      ]
     },
     "execution_count": 16,
     "metadata": {},
     "output_type": "execute_result"
    }
   ],
   "source": [
    "t.percent_nutrient(\"protein\")"
   ]
  },
  {
   "cell_type": "code",
   "execution_count": null,
   "id": "ff3e83aa-33d9-4eb4-bf98-3b14793ecbfe",
   "metadata": {},
   "outputs": [],
   "source": []
  }
 ],
 "metadata": {
  "kernelspec": {
   "display_name": "Python 3 (ipykernel)",
   "language": "python",
   "name": "python3"
  },
  "language_info": {
   "codemirror_mode": {
    "name": "ipython",
    "version": 3
   },
   "file_extension": ".py",
   "mimetype": "text/x-python",
   "name": "python",
   "nbconvert_exporter": "python",
   "pygments_lexer": "ipython3",
   "version": "3.13.3"
  }
 },
 "nbformat": 4,
 "nbformat_minor": 5
}
