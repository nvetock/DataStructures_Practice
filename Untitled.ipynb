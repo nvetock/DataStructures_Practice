{
 "cells": [
  {
   "cell_type": "markdown",
   "id": "01016b66-8139-4f55-8c46-8c210647b0ac",
   "metadata": {},
   "source": [
    "# Hash Tables\n",
    "A data structure that stored unordered items by mapping each item to a location in an array (or vector) known as a bucket.\\\n",
    "The modulo operator is used with an item's key and the size of the table. The key should be unique to that item.\\\n",
    "Hash Function: key % table_size = bucket index\\\n",
    "## Allocation\n",
    "Hash tables are often allocated with a prime number. When resizing, the next ((prime number) >= N * 2). New array is allocated and all items from old array are re-inserted into the new array. resize complexity = O(n)\\\n",
    "### Load Factor\n",
    "The load factor is (num items / table_size).\n",
    "### When to resize\n",
    "- LF is used to determine when to resize hash table.\n",
    "- Open Addressing: A threshold of insertion collisions are reached\n",
    "- Chaining: Size of a bucket's linked list passes a threshold\n",
    "\n",
    "## Collisions\n",
    "Occur when an item is being inserted into an already used item. Various techniques: Chaining and Open Addressing. When searching for an item a comparison is then made to be sure it's the right item within the bucket.\n",
    "### Chaining\n",
    "Each bucket holds a list of items\n",
    "### Open Addressing\n",
    "Store item within *any* bucket\n",
    "### Linear Probing\n",
    "When collision occurs, go to the *next* available bucket. On search this results in probing the bucket index first and then every bucket after until found or N size is reached.\n",
    "### Quadratic Probing\n",
    "Similar to Linear, only rather than *every* subsequent bucket, the bucket order is determined quadratically. The formula: (H + c1 * i + c2 * i^2) % (table_size) determines bucket index.\\\n",
    "H=hash(item.key) | c1 & c2 = user-defined | i = iteration number if bucket isn't empty (starts with 0)\n",
    "### Double Hashing\n",
    "Open Addressing solution that uses 2 different hash functions to find the bucket index. The formula: (h1(key) + i * h2(key)) % (table_size).\\\n",
    "h1 & h2 are different hash functions | i = iteration number if bucket isn't empty (starts with 0)\n",
    "\n",
    "## Common Hash Functions\n",
    "### Modulo\n",
    "item_key % table_size\n",
    "### Mid-square base 10\n",
    "Squares key, extracts R digits from the result's middle, returns result % table_size. R must be >= ceil(log10(N)).\\\n",
    "### Mid-square base 2\n",
    "Squares key, converts result to binary, extracts R digits from middle, returns result % table_size. R must be >= ceil(log2(N))\n",
    "### Multiplicative String\n",
    "Repeatedly multiplies hash value and adds ASCII value of each char in the string. Multiplier is often a prime number. Finally returns result % table_size.\\\n",
    "Loops by string size: stringHash = (stringHash * multiplier) + strChar | Then: stringHash % table_size"
   ]
  },
  {
   "cell_type": "code",
   "execution_count": null,
   "id": "a3b86a54-aff3-47bc-b5eb-966530ea6e7d",
   "metadata": {},
   "outputs": [],
   "source": []
  },
  {
   "cell_type": "markdown",
   "id": "7e842ab9-33f3-4bd0-9468-5d98222614bc",
   "metadata": {},
   "source": [
    "```\n",
    "HashInsert(hashTable, item) {\n",
    "    if hashSearch for the table and item.key is null\n",
    "        then make a new bucket list as a hashTable with the hashed item.key\n",
    "        allocate a new linked list node\n",
    "        connect the item to the node's data\n",
    "        append the node to the bucketList\n",
    "    else append the i\n",
    "\n",
    "```"
   ]
  },
  {
   "cell_type": "code",
   "execution_count": null,
   "id": "1d019e35-a412-46d6-9c32-cc7ba8fbb996",
   "metadata": {},
   "outputs": [],
   "source": []
  },
  {
   "cell_type": "code",
   "execution_count": null,
   "id": "72214a07-cefa-4fff-96d2-e1d038777e75",
   "metadata": {},
   "outputs": [],
   "source": []
  },
  {
   "cell_type": "code",
   "execution_count": 12,
   "id": "e9ac3aed-a9ea-41a3-b5e2-1acfcfe29c1d",
   "metadata": {},
   "outputs": [],
   "source": [
    "test_int = 54\n",
    "test_str = \"Random Word\"\n",
    "test_float = 3.1459\n",
    "test_tuple = (1, 2, 3, 4)\n",
    "test_list = [5, 6, 7, 8] # throws error because mutable\n",
    "test_dict = {\"item1\": \"value1\", \"item2\": \"value2\"} # throws error, mutable"
   ]
  },
  {
   "cell_type": "code",
   "execution_count": 2,
   "id": "eb7af84a-bbf9-4279-8161-93191fc5ab00",
   "metadata": {},
   "outputs": [],
   "source": [
    "def printHash(item):\n",
    "    print(f\"Hash value for {item} is: \" + str(hash(item)))"
   ]
  },
  {
   "cell_type": "code",
   "execution_count": 3,
   "id": "26e6737a-8e7f-4f60-a710-502f797c00b9",
   "metadata": {},
   "outputs": [
    {
     "name": "stdout",
     "output_type": "stream",
     "text": [
      "Hash value for 54 is: 54\n"
     ]
    }
   ],
   "source": [
    "printHash(test_int)"
   ]
  },
  {
   "cell_type": "code",
   "execution_count": 4,
   "id": "049344db-f033-46ed-9eea-2cc64642ab07",
   "metadata": {},
   "outputs": [
    {
     "name": "stdout",
     "output_type": "stream",
     "text": [
      "Hash value for Random Word is: 4944782876873321693\n"
     ]
    }
   ],
   "source": [
    "printHash(test_str)"
   ]
  },
  {
   "cell_type": "code",
   "execution_count": 5,
   "id": "bb7f9bc3-5dcd-4014-a34c-4f9ee0656a23",
   "metadata": {},
   "outputs": [
    {
     "name": "stdout",
     "output_type": "stream",
     "text": [
      "Hash value for 3.1459 is: 336422495044278275\n"
     ]
    }
   ],
   "source": [
    "printHash(test_float)"
   ]
  },
  {
   "cell_type": "code",
   "execution_count": 7,
   "id": "c92990c0-ead2-4c74-9b95-defb0d5dda01",
   "metadata": {},
   "outputs": [
    {
     "name": "stdout",
     "output_type": "stream",
     "text": [
      "Hash value for (1, 2, 3, 4) is: 590899387183067792\n"
     ]
    }
   ],
   "source": [
    "printHash(test_tuple)"
   ]
  },
  {
   "cell_type": "code",
   "execution_count": 8,
   "id": "eebbf357-6afa-4c7f-bb39-8f22761439e2",
   "metadata": {},
   "outputs": [
    {
     "ename": "TypeError",
     "evalue": "unhashable type: 'list'",
     "output_type": "error",
     "traceback": [
      "\u001b[31m---------------------------------------------------------------------------\u001b[39m",
      "\u001b[31mTypeError\u001b[39m                                 Traceback (most recent call last)",
      "\u001b[36mCell\u001b[39m\u001b[36m \u001b[39m\u001b[32mIn[8]\u001b[39m\u001b[32m, line 1\u001b[39m\n\u001b[32m----> \u001b[39m\u001b[32m1\u001b[39m \u001b[43mprintHash\u001b[49m\u001b[43m(\u001b[49m\u001b[43mtest_list\u001b[49m\u001b[43m)\u001b[49m\n",
      "\u001b[36mCell\u001b[39m\u001b[36m \u001b[39m\u001b[32mIn[2]\u001b[39m\u001b[32m, line 2\u001b[39m, in \u001b[36mprintHash\u001b[39m\u001b[34m(item)\u001b[39m\n\u001b[32m      1\u001b[39m \u001b[38;5;28;01mdef\u001b[39;00m\u001b[38;5;250m \u001b[39m\u001b[34mprintHash\u001b[39m(item):\n\u001b[32m----> \u001b[39m\u001b[32m2\u001b[39m     \u001b[38;5;28mprint\u001b[39m(\u001b[33mf\u001b[39m\u001b[33m\"\u001b[39m\u001b[33mHash value for \u001b[39m\u001b[38;5;132;01m{\u001b[39;00mitem\u001b[38;5;132;01m}\u001b[39;00m\u001b[33m is: \u001b[39m\u001b[33m\"\u001b[39m + \u001b[38;5;28mstr\u001b[39m(\u001b[38;5;28;43mhash\u001b[39;49m\u001b[43m(\u001b[49m\u001b[43mitem\u001b[49m\u001b[43m)\u001b[49m))\n",
      "\u001b[31mTypeError\u001b[39m: unhashable type: 'list'"
     ]
    }
   ],
   "source": [
    "printHash(test_list)"
   ]
  },
  {
   "cell_type": "code",
   "execution_count": 11,
   "id": "78f36597-a2c5-477a-8bc4-fc07ac51dc01",
   "metadata": {},
   "outputs": [
    {
     "ename": "TypeError",
     "evalue": "unhashable type: 'dict'",
     "output_type": "error",
     "traceback": [
      "\u001b[31m---------------------------------------------------------------------------\u001b[39m",
      "\u001b[31mTypeError\u001b[39m                                 Traceback (most recent call last)",
      "\u001b[36mCell\u001b[39m\u001b[36m \u001b[39m\u001b[32mIn[11]\u001b[39m\u001b[32m, line 1\u001b[39m\n\u001b[32m----> \u001b[39m\u001b[32m1\u001b[39m \u001b[43mprintHash\u001b[49m\u001b[43m(\u001b[49m\u001b[43mtest_dict\u001b[49m\u001b[43m)\u001b[49m\n",
      "\u001b[36mCell\u001b[39m\u001b[36m \u001b[39m\u001b[32mIn[2]\u001b[39m\u001b[32m, line 2\u001b[39m, in \u001b[36mprintHash\u001b[39m\u001b[34m(item)\u001b[39m\n\u001b[32m      1\u001b[39m \u001b[38;5;28;01mdef\u001b[39;00m\u001b[38;5;250m \u001b[39m\u001b[34mprintHash\u001b[39m(item):\n\u001b[32m----> \u001b[39m\u001b[32m2\u001b[39m     \u001b[38;5;28mprint\u001b[39m(\u001b[33mf\u001b[39m\u001b[33m\"\u001b[39m\u001b[33mHash value for \u001b[39m\u001b[38;5;132;01m{\u001b[39;00mitem\u001b[38;5;132;01m}\u001b[39;00m\u001b[33m is: \u001b[39m\u001b[33m\"\u001b[39m + \u001b[38;5;28mstr\u001b[39m(\u001b[38;5;28;43mhash\u001b[39;49m\u001b[43m(\u001b[49m\u001b[43mitem\u001b[49m\u001b[43m)\u001b[49m))\n",
      "\u001b[31mTypeError\u001b[39m: unhashable type: 'dict'"
     ]
    }
   ],
   "source": [
    "printHash(test_dict)"
   ]
  },
  {
   "cell_type": "code",
   "execution_count": null,
   "id": "4a5337db-b38c-4a78-bce4-beb8b8751e0a",
   "metadata": {},
   "outputs": [],
   "source": []
  },
  {
   "cell_type": "markdown",
   "id": "f30fa2b3-e698-4d21-8ac1-73c423f87db9",
   "metadata": {},
   "source": [
    "User-defined Types can override hash() method and equal comparison operator"
   ]
  },
  {
   "cell_type": "code",
   "execution_count": 21,
   "id": "83c2d4b4-b9fe-4eff-9ed1-f64524add9f3",
   "metadata": {},
   "outputs": [],
   "source": [
    "class Employee:\n",
    "    def __init__(self, employee_name, eid):\n",
    "        self.employee_name = employee_name\n",
    "        self.eid = eid\n",
    "\n",
    "    def __eq__(self, other):\n",
    "        return self.employee_name == other.employee_name and self.eid == other.eid\n",
    "\n",
    "    def __hash__(self,):\n",
    "        # Store unique items of object within a tuple to hash\n",
    "        return hash((self.employee_name, self.eid))"
   ]
  },
  {
   "cell_type": "code",
   "execution_count": 22,
   "id": "438723cd-3f53-4688-a702-eeaf5ef51cc5",
   "metadata": {},
   "outputs": [],
   "source": [
    "e = Employee(\"John\", 1)"
   ]
  },
  {
   "cell_type": "code",
   "execution_count": 26,
   "id": "608bfd14-fb2e-4722-aa49-03e826d89c8c",
   "metadata": {},
   "outputs": [],
   "source": [
    "e2 = Employee(\"Jane\", 2)"
   ]
  },
  {
   "cell_type": "code",
   "execution_count": 27,
   "id": "c6703da8-268f-41e6-9275-b8079846905b",
   "metadata": {},
   "outputs": [],
   "source": [
    "e3 = Employee(\"VeryLongEmployeeName\", 999)"
   ]
  },
  {
   "cell_type": "code",
   "execution_count": 23,
   "id": "1237d142-9e8d-4ca5-9018-017c0ac9402a",
   "metadata": {},
   "outputs": [
    {
     "name": "stdout",
     "output_type": "stream",
     "text": [
      "Hash value for <__main__.Employee object at 0x0000025D91673620> is: -5810975169737240520\n"
     ]
    }
   ],
   "source": [
    "printHash(e)"
   ]
  },
  {
   "cell_type": "code",
   "execution_count": 25,
   "id": "da6eb20a-c245-4df6-8981-3b512de78b0f",
   "metadata": {},
   "outputs": [
    {
     "name": "stdout",
     "output_type": "stream",
     "text": [
      "Hash value for <__main__.Employee object at 0x0000025D922D4050> is: -7500842263962692335\n"
     ]
    }
   ],
   "source": [
    "printHash(e2)"
   ]
  },
  {
   "cell_type": "code",
   "execution_count": 28,
   "id": "c8093b2a-ee07-400e-b455-34e538b8c6a8",
   "metadata": {},
   "outputs": [
    {
     "name": "stdout",
     "output_type": "stream",
     "text": [
      "Hash value for <__main__.Employee object at 0x0000025D9166F490> is: 8272547450903156520\n"
     ]
    }
   ],
   "source": [
    "printHash(e3)"
   ]
  },
  {
   "cell_type": "code",
   "execution_count": null,
   "id": "370cecdd-bbb6-4611-b9da-9a95ef549f9d",
   "metadata": {},
   "outputs": [],
   "source": []
  },
  {
   "cell_type": "code",
   "execution_count": null,
   "id": "fd869d19-1f3e-4c62-91a3-37b0972b0b59",
   "metadata": {},
   "outputs": [],
   "source": []
  },
  {
   "cell_type": "code",
   "execution_count": null,
   "id": "47d92c2b-3ce6-4d53-b2a8-20dc51f824f0",
   "metadata": {},
   "outputs": [],
   "source": []
  },
  {
   "cell_type": "markdown",
   "id": "dff16347-9014-47e4-b3f8-d291fd29e364",
   "metadata": {},
   "source": [
    "# Hash Table"
   ]
  },
  {
   "cell_type": "code",
   "execution_count": 32,
   "id": "c02623aa-5e07-48da-b943-48cc58dca56e",
   "metadata": {},
   "outputs": [],
   "source": [
    "### BASE CLASS ###\n",
    "class HashTable:\n",
    "    # Return non-negative hash code\n",
    "    def hashKey(self, key):\n",
    "        return abs(hash(key))\n",
    "\n",
    "    # Inserts key/valuye pair.\n",
    "    # If key exists, corresponding value is updated.\n",
    "    # If inserted/updated True is returned, else false.\n",
    "    def insert(self, key, value):\n",
    "        pass\n",
    "\n",
    "    # Searches for key, if found: removed and returns True, else False\n",
    "    def remove(self, key):\n",
    "        pass\n",
    "\n",
    "    # Searches for key, returns key's value if found, else None\n",
    "    def search(self, key):\n",
    "        pass"
   ]
  },
  {
   "cell_type": "code",
   "execution_count": null,
   "id": "7ce8c1d5-fecd-43e7-a82d-16a3d1e1f475",
   "metadata": {},
   "outputs": [],
   "source": []
  },
  {
   "cell_type": "markdown",
   "id": "0a0dca23-e05b-40ff-ab06-bfab71797ded",
   "metadata": {},
   "source": [
    "## Chaining Table"
   ]
  },
  {
   "cell_type": "code",
   "execution_count": 31,
   "id": "d2a0b260-0961-4c66-a17b-05c187ca5fea",
   "metadata": {},
   "outputs": [],
   "source": [
    "class ChainingHashTableItem:\n",
    "    \n",
    "    def __init__(self, key, value, next_node=None):\n",
    "        self.key = key\n",
    "        self.value = value\n",
    "        self.next_node = next_node"
   ]
  },
  {
   "cell_type": "code",
   "execution_count": 114,
   "id": "53372695-6fea-4ac9-b79a-547b0be61ef8",
   "metadata": {},
   "outputs": [],
   "source": [
    "class ChainingHashTable(HashTable):\n",
    "\n",
    "    def __init__(self, table_size):\n",
    "        self.table = [None] * table_size\n",
    "        self.table_size = table_size\n",
    "    \n",
    "    def insert(self, key, value):\n",
    "        bucketIndex = (self.hashKey(key) % len(self.table))\n",
    "        if self.table[bucketIndex] is None:\n",
    "            # If the bucket at this index is empty, add this key to the bucket space with no next pointer\n",
    "            # alt: make an empty list, store this node in the list and set the bucketIndex to = new list\n",
    "            bucketList = []\n",
    "            node = ChainingHashTableItem(key, value)\n",
    "            bucketList.append(node)\n",
    "            self.table[bucketIndex] = bucketList\n",
    "            return True\n",
    "        else:\n",
    "            bucketList = self.table[bucketIndex]\n",
    "            for element in bucketList:\n",
    "                if element.key == key:\n",
    "                    element.value = value\n",
    "                    break\n",
    "                elif element.next_node == None:\n",
    "                    node = ChainingHashTableItem(key, value)\n",
    "                    element.next_node = node\n",
    "                    bucketList.append(node)\n",
    "                    break\n",
    "            return True\n",
    "        return False\n",
    "    \n",
    "    def remove(self, key):\n",
    "        pass\n",
    "\n",
    "    def search(self, key):\n",
    "        pass"
   ]
  },
  {
   "cell_type": "code",
   "execution_count": 115,
   "id": "7fe6ee40-c4e7-49f7-986a-1121834370fc",
   "metadata": {},
   "outputs": [],
   "source": [
    "tempCHT = ChainingHashTable(11)"
   ]
  },
  {
   "cell_type": "code",
   "execution_count": 116,
   "id": "f9868c69-0615-403d-87dd-33043c0654df",
   "metadata": {},
   "outputs": [
    {
     "name": "stdout",
     "output_type": "stream",
     "text": [
      "[None, None, None, None, None, None, None, None, None, None, None]\n"
     ]
    }
   ],
   "source": [
    "print(tempCHT.table)"
   ]
  },
  {
   "cell_type": "code",
   "execution_count": 117,
   "id": "317040c2-bc56-4ae2-afc1-fe2fd29138c4",
   "metadata": {},
   "outputs": [
    {
     "data": {
      "text/plain": [
       "True"
      ]
     },
     "execution_count": 117,
     "metadata": {},
     "output_type": "execute_result"
    }
   ],
   "source": [
    "tempCHT.insert(\"key1\", \"value7\")"
   ]
  },
  {
   "cell_type": "code",
   "execution_count": 118,
   "id": "f5921646-ad3a-4f54-82ba-177cebe2ca1f",
   "metadata": {},
   "outputs": [
    {
     "data": {
      "text/plain": [
       "True"
      ]
     },
     "execution_count": 118,
     "metadata": {},
     "output_type": "execute_result"
    }
   ],
   "source": [
    "tempCHT.insert(8, \"value5\")"
   ]
  },
  {
   "cell_type": "code",
   "execution_count": 120,
   "id": "e894e86f-2cf9-43c6-9468-c4446ff10da2",
   "metadata": {},
   "outputs": [
    {
     "data": {
      "text/plain": [
       "True"
      ]
     },
     "execution_count": 120,
     "metadata": {},
     "output_type": "execute_result"
    }
   ],
   "source": [
    "tempCHT.insert(19, \"value5\")"
   ]
  },
  {
   "cell_type": "code",
   "execution_count": 127,
   "id": "46695254-d78f-463c-943f-a241d2ab2e83",
   "metadata": {},
   "outputs": [
    {
     "name": "stdout",
     "output_type": "stream",
     "text": [
      "key: key1\n",
      "value: value7\n",
      "\n",
      "key: 8\n",
      "value: value5\n",
      "\n",
      "key: 19\n",
      "value: value5\n",
      "\n"
     ]
    }
   ],
   "source": [
    "for item in tempCHT.table[8]:\n",
    "    print(\"key: \"+ str(item.key) + \"\\nvalue: \" + str(item.value))\n",
    "    print()"
   ]
  },
  {
   "cell_type": "code",
   "execution_count": null,
   "id": "fce25c1a-3445-41d5-ace5-6c48fd7f6fd6",
   "metadata": {},
   "outputs": [],
   "source": []
  },
  {
   "cell_type": "code",
   "execution_count": null,
   "id": "855f2e8b-be45-4383-a267-19bc9ee3a17b",
   "metadata": {},
   "outputs": [],
   "source": []
  }
 ],
 "metadata": {
  "kernelspec": {
   "display_name": "Python 3 (ipykernel)",
   "language": "python",
   "name": "python3"
  },
  "language_info": {
   "codemirror_mode": {
    "name": "ipython",
    "version": 3
   },
   "file_extension": ".py",
   "mimetype": "text/x-python",
   "name": "python",
   "nbconvert_exporter": "python",
   "pygments_lexer": "ipython3",
   "version": "3.13.3"
  }
 },
 "nbformat": 4,
 "nbformat_minor": 5
}
