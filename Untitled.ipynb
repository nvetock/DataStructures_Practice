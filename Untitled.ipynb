{
 "cells": [
  {
   "cell_type": "markdown",
   "id": "ff5c9d42-7717-4ce9-82d5-bf36fc6aae2e",
   "metadata": {},
   "source": [
    "# Get to location"
   ]
  },
  {
   "cell_type": "code",
   "execution_count": 3,
   "id": "24e3e553-07c3-4f01-b851-2d8adfa022a9",
   "metadata": {},
   "outputs": [],
   "source": [
    "class Point:\n",
    "    def __init__(self,):\n",
    "        self.x = 0\n",
    "        self.y = 0\n",
    "    \n",
    "    def set_points(self, x, y):\n",
    "        self.x = x\n",
    "        self.y = y\n",
    "\n",
    "    def __str__(self,):\n",
    "        return f\"({self.x}, {self.y})\""
   ]
  },
  {
   "cell_type": "code",
   "execution_count": 6,
   "id": "e6475c60-81be-4303-9f1e-46777b861039",
   "metadata": {},
   "outputs": [],
   "source": [
    "p = Point()"
   ]
  },
  {
   "cell_type": "markdown",
   "id": "089647ce-4546-456b-ac89-0ef2b5322405",
   "metadata": {},
   "source": [
    "d = sqrt((x_p - x_1)^2 + (y_p - y_1)^2)"
   ]
  },
  {
   "cell_type": "code",
   "execution_count": null,
   "id": "899276e4-785b-4da6-bfbf-0dff4dfecf93",
   "metadata": {},
   "outputs": [],
   "source": []
  }
 ],
 "metadata": {
  "kernelspec": {
   "display_name": "Python 3 (ipykernel)",
   "language": "python",
   "name": "python3"
  },
  "language_info": {
   "codemirror_mode": {
    "name": "ipython",
    "version": 3
   },
   "file_extension": ".py",
   "mimetype": "text/x-python",
   "name": "python",
   "nbconvert_exporter": "python",
   "pygments_lexer": "ipython3",
   "version": "3.13.3"
  }
 },
 "nbformat": 4,
 "nbformat_minor": 5
}
