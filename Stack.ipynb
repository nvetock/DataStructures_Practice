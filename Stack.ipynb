{
 "cells": [
  {
   "cell_type": "markdown",
   "id": "4854e71d-7d72-454d-aa6d-12a4ddc6bc1d",
   "metadata": {},
   "source": [
    "# Stack ADT\n",
    "Last-In-First-Out. Items get pushed and removed from the top of the stack.\\\n",
    "Used commonly for undo-systems, Function call stacks.\n",
    "## Operations\n",
    "| Operation | Description | Example starting w stack: 99(top), 77 |\n",
    "| :----: | :----: | :----: |\n",
    "| Push(stack, x) | Inserts x on top of stack | Push(stack, 44). Stack: 44, 99, 77 |\n",
    "| Pop(stack) | Returns and removes item at top of stack | Pop(stack) returns: 99. Stack: 77 |\n",
    "| Peek(stack) | Returns top of stack without removing | Peek(stack) returns 00. Stack: 99, 77 |\n",
    "| IsEmpty(stack) | Returns True if stack has no items | IsEmpty(stack) returns false |\n",
    "| GetLength(stack) | Returns the number of items in the stack | GetLength(stack) returns 2 |\n",
    "\n",
    "## Implementation\n",
    "### Linked List\n",
    "Common implementation. Variables:\n",
    "- Head -> Top\n",
    "- Tail -> bottom\n",
    "- New pushes are placed at head\n",
    "\n",
    "### Array\n",
    "Variables:\n",
    "- allocation_size\n",
    "- length\n",
    "- max_length (if bounded)\n",
    "- Top item is array\\[length - 1]\n",
    "- Allocation extensions typically done by doubling curr size"
   ]
  },
  {
   "cell_type": "code",
   "execution_count": null,
   "id": "263d9892-c957-4def-98a1-e43cfaec1f7b",
   "metadata": {},
   "outputs": [],
   "source": []
  },
  {
   "cell_type": "code",
   "execution_count": 22,
   "id": "b96c6e21-4a2e-4c18-a16f-f0b5797b7eee",
   "metadata": {},
   "outputs": [],
   "source": [
    "class Stack:\n",
    "    def __init__(self, max_length=-1):\n",
    "        self.stack_list = []\n",
    "        self.__max_length = max_length\n",
    "\n",
    "    def get_max_length(self,):\n",
    "        return self.__max_length\n",
    "    \n",
    "    def pop(self,):\n",
    "        return self.stack_list.pop()\n",
    "\n",
    "    def push(self, item):\n",
    "        if len(self.stack_list) == self.get_max_length():\n",
    "            return False\n",
    " \n",
    "        self.stack_list.append(item)\n",
    "        return True"
   ]
  },
  {
   "cell_type": "code",
   "execution_count": 23,
   "id": "2a61cc21-78df-407a-ab2d-433bd0ddfdf7",
   "metadata": {},
   "outputs": [],
   "source": [
    "stack = Stack()"
   ]
  },
  {
   "cell_type": "code",
   "execution_count": 24,
   "id": "ab71c922-d04c-49f2-b7b0-5ae12b025738",
   "metadata": {},
   "outputs": [
    {
     "data": {
      "text/plain": [
       "True"
      ]
     },
     "execution_count": 24,
     "metadata": {},
     "output_type": "execute_result"
    }
   ],
   "source": [
    "stack.push(1)"
   ]
  },
  {
   "cell_type": "code",
   "execution_count": 25,
   "id": "0d6051f9-8937-44ee-ba2b-d66a22738756",
   "metadata": {},
   "outputs": [
    {
     "data": {
      "text/plain": [
       "True"
      ]
     },
     "execution_count": 25,
     "metadata": {},
     "output_type": "execute_result"
    }
   ],
   "source": [
    "stack.push(3)"
   ]
  },
  {
   "cell_type": "code",
   "execution_count": 26,
   "id": "a45412fd-9ceb-41d9-ab88-ef57232a742b",
   "metadata": {},
   "outputs": [
    {
     "name": "stdout",
     "output_type": "stream",
     "text": [
      "[1, 3]\n"
     ]
    }
   ],
   "source": [
    "print(stack.stack_list)"
   ]
  },
  {
   "cell_type": "code",
   "execution_count": 27,
   "id": "d368aee0-e041-4762-be17-85da177deff9",
   "metadata": {},
   "outputs": [
    {
     "name": "stdout",
     "output_type": "stream",
     "text": [
      "3\n"
     ]
    }
   ],
   "source": [
    "print(stack.pop())"
   ]
  },
  {
   "cell_type": "code",
   "execution_count": null,
   "id": "04675e64-4d48-433f-b0a3-fa2c6bf23210",
   "metadata": {},
   "outputs": [],
   "source": []
  }
 ],
 "metadata": {
  "kernelspec": {
   "display_name": "Python 3 (ipykernel)",
   "language": "python",
   "name": "python3"
  },
  "language_info": {
   "codemirror_mode": {
    "name": "ipython",
    "version": 3
   },
   "file_extension": ".py",
   "mimetype": "text/x-python",
   "name": "python",
   "nbconvert_exporter": "python",
   "pygments_lexer": "ipython3",
   "version": "3.13.3"
  }
 },
 "nbformat": 4,
 "nbformat_minor": 5
}
