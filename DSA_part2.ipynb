{
 "cells": [
  {
   "cell_type": "markdown",
   "id": "ea09cdfa-8097-49de-bf21-b835261ec8bc",
   "metadata": {},
   "source": [
    "# Huffman Compression\n",
    "Compress data down to fewer bits using a dictionary whose code doesn't prefix other entries\n",
    "## Character Frequency Table\n",
    "Prior to compression a table holds how frequent a character appears in a string\n",
    "## Huffman Coding\n",
    "A compression technique that assigns *fewer* bits to *more* frequent items using a binary tree"
   ]
  },
  {
   "cell_type": "code",
   "execution_count": null,
   "id": "e79fbee3-aa2b-4fc5-b7c2-c27aa572afa2",
   "metadata": {},
   "outputs": [],
   "source": []
  }
 ],
 "metadata": {
  "kernelspec": {
   "display_name": "Python 3 (ipykernel)",
   "language": "python",
   "name": "python3"
  },
  "language_info": {
   "codemirror_mode": {
    "name": "ipython",
    "version": 3
   },
   "file_extension": ".py",
   "mimetype": "text/x-python",
   "name": "python",
   "nbconvert_exporter": "python",
   "pygments_lexer": "ipython3",
   "version": "3.13.3"
  }
 },
 "nbformat": 4,
 "nbformat_minor": 5
}
