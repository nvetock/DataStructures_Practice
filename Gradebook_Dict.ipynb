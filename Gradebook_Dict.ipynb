{
 "cells": [
  {
   "cell_type": "markdown",
   "id": "22b5ff4e-188d-44d7-a1ed-c861fd8c9e80",
   "metadata": {},
   "source": [
    "# Course Gradebook Challenge\n",
    "Gradebook challenge starts with an abstract Gradebook class to implement into a functioning CourseGradebook class.\\\n",
    "\\\n",
    "The Gradebook class stores a collection of entries for a course. Conceptually, a gradebook entry is a (assignment name, student ID, score) triplet. Each assignment name is a string, each student ID is an integer, and each score is a float. A score is entered into the gradebook via the set_score() method.\n",
    "\n",
    "The Gradebook class has six abstract methods that must be implemented in an inheriting class."
   ]
  },
  {
   "cell_type": "code",
   "execution_count": null,
   "id": "73143ced-6e15-4310-9ab6-13cf9eac23de",
   "metadata": {},
   "outputs": [],
   "source": []
  },
  {
   "cell_type": "code",
   "execution_count": 1,
   "id": "bf82091f-0531-462b-a2a4-da83ccc0374e",
   "metadata": {},
   "outputs": [],
   "source": [
    "from abc import ABC, abstractmethod\n",
    "\n",
    "class Gradebook:\n",
    "    # get_score() returns the specified student's score for the specified\n",
    "    # assignment. None is returned if either:\n",
    "    # - the assignment does not exist in the gradebook, or\n",
    "    # - the assignment exists but no score exists for the specified student.\n",
    "    @abstractmethod\n",
    "    def get_score(self, assignment_name, studentID):\n",
    "        pass\n",
    "\n",
    "    # set_score() adds or updates a score in the gradebook.\n",
    "    @abstractmethod\n",
    "    def set_score(self, assignment_name, studentID, score):\n",
    "        pass\n",
    "\n",
    "    # get_assignment_scores() returns a dict that maps a student ID to\n",
    "    # the student's score for the specified assignment. An entry\n",
    "    # exists in the returned dict only if a score has been entered with the\n",
    "    # set_score() function.\n",
    "    @abstractmethod\n",
    "    def get_assignment_scores(self, assignment_name):\n",
    "        pass\n",
    "\n",
    "    # get_sorted_assignment_names() returns a list with all distinct assignment\n",
    "    # names, sorted in ascending order.\n",
    "    @abstractmethod\n",
    "    def get_sorted_assignment_names(self):\n",
    "        pass\n",
    "\n",
    "    # get_sorted_student_iDs() returns a list with all distinct student IDs,\n",
    "    # sorted in ascending order.\n",
    "    @abstractmethod\n",
    "    def get_sorted_student_iDs(self):\n",
    "        pass\n",
    "\n",
    "    # get_student_scores() gets all scores that exist in the gradebook for the\n",
    "    # student whose ID matches the function parameter. get_student_scores()\n",
    "    # returns a dict that maps an assignment name to the student's\n",
    "    # score for that assignment.\n",
    "    @abstractmethod\n",
    "    def get_student_scores(self, studentID):\n",
    "        pass"
   ]
  },
  {
   "cell_type": "code",
   "execution_count": null,
   "id": "8e008e05-9887-438c-858b-352090f7f37d",
   "metadata": {},
   "outputs": [],
   "source": []
  },
  {
   "cell_type": "code",
   "execution_count": 56,
   "id": "106c7aaf-e9e1-4315-b9f4-0f50ebad4a0a",
   "metadata": {},
   "outputs": [],
   "source": [
    "#from Gradebook import Gradebook\n",
    "\n",
    "class CourseGradebook(Gradebook):\n",
    "    def __init__(self):\n",
    "        self.grades = {}\n",
    "\n",
    "    # Return a dict that maps students to scores\n",
    "    # An entry exists for a student only if one had been assigned by set_score\n",
    "    def get_assignment_scores(self, assignment_name):\n",
    "        result = {}\n",
    "        for student in self.grades:\n",
    "            for assignment in self.grades[student]:\n",
    "                if assignment == assignment_name:\n",
    "                    result[student] = self.grades[student][assignment]\n",
    "        return result\n",
    "\n",
    "    def get_score(self, assignment_name, studentID):\n",
    "        if studentID in self.grades:\n",
    "            for assignment in self.grades[studentID]:\n",
    "                if assignment == assignment_name:\n",
    "                    return float(self.grades[studentID][assignment])\n",
    "        return None\n",
    "\n",
    "    def get_sorted_assignment_names(self):\n",
    "        result = []\n",
    "        for student in self.grades:\n",
    "            for assignment in self.grades[student]:\n",
    "                result.append(assignment)\n",
    "        result = set(result)\n",
    "        result = list(result)\n",
    "        result.sort()\n",
    "        return result\n",
    "\n",
    "    # get_sorted_student_ids() returns a list with all distinct student ID,\n",
    "    # sorted in ascending order.\n",
    "    def get_sorted_student_IDs(self):\n",
    "        result = []\n",
    "        for student in self.grades:\n",
    "            result.append(student)\n",
    "        result.sort()\n",
    "        return result\n",
    "\n",
    "    # get_student_scores() gets all scores that exist in the gradebook for the\n",
    "    # student whose ID matches the method argument, and returns a dict that maps\n",
    "    # each assignment name to the student's score for that assignment.\n",
    "    def get_student_scores(self, studentID):\n",
    "        result = {}\n",
    "        if studentID in self.grades:\n",
    "            for assignment in self.grades[studentID]:\n",
    "                result[assignment] = self.grades[studentID][assignment]\n",
    "        return result\n",
    "\n",
    "    def set_score(self, assignment_name, studentID, score):\n",
    "        for entry_id in self.grades:\n",
    "            if entry_id == studentID:\n",
    "                self.grades[entry_id][assignment_name] = score\n",
    "                break\n",
    "        else:\n",
    "            self.grades[studentID] = {assignment_name: score}\n"
   ]
  },
  {
   "cell_type": "code",
   "execution_count": null,
   "id": "8e3ce64c-85ed-4001-8ca5-eeaf06a8a34a",
   "metadata": {},
   "outputs": [],
   "source": []
  },
  {
   "cell_type": "code",
   "execution_count": null,
   "id": "51434fbd-a85a-479a-a5ca-ec146b040d9f",
   "metadata": {},
   "outputs": [],
   "source": []
  },
  {
   "cell_type": "code",
   "execution_count": null,
   "id": "a873df84-9a8f-40a5-a3bc-73f0bff0502c",
   "metadata": {},
   "outputs": [],
   "source": []
  },
  {
   "cell_type": "code",
   "execution_count": null,
   "id": "acb30b44-90ee-40f4-aa60-a47d240f76a1",
   "metadata": {},
   "outputs": [],
   "source": []
  },
  {
   "cell_type": "code",
   "execution_count": 5,
   "id": "07992e92-674f-49ae-aea1-7035a9e9b233",
   "metadata": {},
   "outputs": [],
   "source": [
    "#from CourseGradebook import CourseGradebook\n",
    "\n",
    "# convenience function for print numbers with singular word for 1, plural otherwise\n",
    "def count_string(collection, singular, plural):\n",
    "    return (f\"1 {singular}\"\n",
    "            if len(collection) == 1\n",
    "            else f'{len(collection)} {plural}'\n",
    "            )\n",
    "\n",
    "rows = [\n",
    "    [\"student ID\", \"homework 1\", \"homework 2\", \"midterm\", \"homework 3\", \"homework 4\", \"course project\", \"final exam\"],\n",
    "    [\"11111\",  \"92\",     \"89\",     \"91\",   \"100\",     \"100\",    \"100\",    \"95\"],\n",
    "    [\"22222\",  \"\",       \"75\",     \"77.5\", \"80.5\",    \"81\",     \"60\",     \"54\"],\n",
    "    [\"33333\",  \"100\",    \"100\",    \"88\",   \"100\",     \"100\",    \"90\",     \"77.5\"],\n",
    "    [\"44444\",  \"60\",     \"50\",     \"40\",   \"30\",      \"\",       \"\",       \"\"],\n",
    "    [\"55555\",  \"73.5\",   \"76.5\",   \"64.5\", \"71.5\",    \"77.5\",   \"87\",     \"63.5\"],\n",
    "    [\"66666\",  \"82.5\",   \"84.5\",   \"91\",   \"92.5\",    \"86\",     \"0\",      \"97\"],\n",
    "    [\"77777\",  \"77\",     \"76\",     \"75\",   \"74\",      \"73\",     \"72\",     \"71\"],\n",
    "    [\"88888\",  \"64.5\",   \"74.5\",   \"88\",   \"84\",      \"84\",     \"85.5\",   \"81.5\"],\n",
    "    [\"99999\",  \"100\",    \"100\",    \"88\",   \"100\",     \"100\",    \"80\",     \"79\"],\n",
    "    [\"10000\",  \"88\",     \"90\",     \"92\",   \"87\",      \"88.5\",   \"77.5\",   \"90\"],\n",
    "    [\"90000\",  \"80\",     \"85\",     \"90\",   \"95\",      \"100\",    \"85\",     \"94.5\"],\n",
    "]\n",
    "\n",
    " # Returns a sample gradebook to use for testing purposes.\n",
    "def make_sample_gradebook():\n",
    "    gradebook = CourseGradebook()\n",
    "    populate_gradebook_from_rows(gradebook, rows)\n",
    "    return gradebook\n",
    "\n",
    "# Populates a CourseGradebook from a of rows. Each row is a of\n",
    "# Row 0 must be the header row. Column 0 must be the student ID column.\n",
    "def populate_gradebook_from_rows(gradebook, rows):\n",
    "    # Iterate through non-header rows\n",
    "    for row in rows[1:]:\n",
    "        # Call set_score for each non-empty entry\n",
    "        for assignment_name, score in zip(rows[0][1:], row[1:]):\n",
    "            if len(score) > 0:             # 0 means score was \"\", indicating no score for assignment\n",
    "                # Add to gradebook\n",
    "                gradebook.set_score(assignment_name, int(row[0]), float(score))\n"
   ]
  },
  {
   "cell_type": "code",
   "execution_count": null,
   "id": "1b259373-a824-4025-a64b-5c315a7e5d5d",
   "metadata": {},
   "outputs": [],
   "source": []
  },
  {
   "cell_type": "code",
   "execution_count": null,
   "id": "84fef779-6ce4-4565-9dd0-5bfbbfcf03b4",
   "metadata": {},
   "outputs": [],
   "source": []
  },
  {
   "cell_type": "code",
   "execution_count": null,
   "id": "64355fe4-c1b8-4d65-9006-9483cd6102ab",
   "metadata": {},
   "outputs": [],
   "source": []
  },
  {
   "cell_type": "code",
   "execution_count": 8,
   "id": "46847d92-3742-4944-9cbc-1ec0c2297fd9",
   "metadata": {},
   "outputs": [],
   "source": [
    "test_grades = {}\n",
    "test_entry = {}"
   ]
  },
  {
   "cell_type": "code",
   "execution_count": 11,
   "id": "4c961f24-7674-464c-95a4-9777e5c81c47",
   "metadata": {},
   "outputs": [],
   "source": [
    "test_entry = {\n",
    "    \"homework1\": 92.0,\n",
    "    \"homework2\": 72.0,\n",
    "    \"homework3\": 55.0\n",
    "}"
   ]
  },
  {
   "cell_type": "code",
   "execution_count": 12,
   "id": "b4752467-cc08-4beb-8cdf-ac2f63708888",
   "metadata": {},
   "outputs": [],
   "source": [
    "test_grades = {11111: test_entry}"
   ]
  },
  {
   "cell_type": "code",
   "execution_count": 13,
   "id": "8faa38f3-6150-4637-be24-ab3b76661b2d",
   "metadata": {},
   "outputs": [
    {
     "data": {
      "text/plain": [
       "{'homework1': 92.0, 'homework2': 72.0, 'homework3': 55.0}"
      ]
     },
     "execution_count": 13,
     "metadata": {},
     "output_type": "execute_result"
    }
   ],
   "source": [
    "test_grades[11111]"
   ]
  },
  {
   "cell_type": "code",
   "execution_count": 33,
   "id": "9f83dcab-69af-48b9-8bd9-9458ab77419c",
   "metadata": {},
   "outputs": [],
   "source": [
    "def printDict(entry):\n",
    "    for item in test_grades:\n",
    "        if item == entry:\n",
    "            print(\"Found \" + str(entry))\n",
    "        else:\n",
    "            print(\"Could not find \" + str(entry))"
   ]
  },
  {
   "cell_type": "code",
   "execution_count": 35,
   "id": "fffc6091-a6e5-4030-8b0b-a01df4a82d56",
   "metadata": {},
   "outputs": [
    {
     "name": "stdout",
     "output_type": "stream",
     "text": [
      "Found 11111\n"
     ]
    }
   ],
   "source": [
    "printDict(11111)"
   ]
  },
  {
   "cell_type": "code",
   "execution_count": 48,
   "id": "a8af027c-7a48-4cc9-99e4-783eb3fd08c4",
   "metadata": {},
   "outputs": [],
   "source": [
    "test_result = {}"
   ]
  },
  {
   "cell_type": "code",
   "execution_count": 52,
   "id": "9125ec16-c92d-455e-8fc2-29e103ce87be",
   "metadata": {},
   "outputs": [],
   "source": [
    "def return_grades(book, sID):\n",
    "    if sID in book:\n",
    "        for key in book[sID]:\n",
    "            print(key + \" \" + str(book[sID][key]))\n",
    "            test_result[key] = book[sID][key]"
   ]
  },
  {
   "cell_type": "code",
   "execution_count": 53,
   "id": "c1342fa7-e857-4290-9b13-9ff2d55f0723",
   "metadata": {},
   "outputs": [
    {
     "name": "stdout",
     "output_type": "stream",
     "text": [
      "homework1 92.0\n",
      "homework2 72.0\n",
      "homework3 55.0\n"
     ]
    }
   ],
   "source": [
    "return_grades(test_grades, 11111)"
   ]
  },
  {
   "cell_type": "code",
   "execution_count": 54,
   "id": "232174a6-6527-4143-84d1-902026b04b25",
   "metadata": {},
   "outputs": [
    {
     "data": {
      "text/plain": [
       "{'homework1': 92.0, 'homework2': 72.0, 'homework3': 55.0}"
      ]
     },
     "execution_count": 54,
     "metadata": {},
     "output_type": "execute_result"
    }
   ],
   "source": [
    "test_result"
   ]
  },
  {
   "cell_type": "code",
   "execution_count": null,
   "id": "70b9554d-b17d-404c-b643-9ae23adaaf33",
   "metadata": {},
   "outputs": [],
   "source": []
  }
 ],
 "metadata": {
  "kernelspec": {
   "display_name": "Python 3 (ipykernel)",
   "language": "python",
   "name": "python3"
  },
  "language_info": {
   "codemirror_mode": {
    "name": "ipython",
    "version": 3
   },
   "file_extension": ".py",
   "mimetype": "text/x-python",
   "name": "python",
   "nbconvert_exporter": "python",
   "pygments_lexer": "ipython3",
   "version": "3.13.3"
  }
 },
 "nbformat": 4,
 "nbformat_minor": 5
}
