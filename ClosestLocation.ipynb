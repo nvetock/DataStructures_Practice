{
 "cells": [
  {
   "cell_type": "markdown",
   "id": "e67da355-bae7-4e4a-a979-5e8f763ccb1f",
   "metadata": {},
   "source": [
    "# Get To Location\n",
    "A program that dynamically moves a point to the closest distance of a cartesian point, given a set amount of x and y steps. Every 3rd iteration the current position moves backwards a set (lesser) amount of steps instead."
   ]
  },
  {
   "cell_type": "code",
   "execution_count": null,
   "id": "81378faa-1841-4e75-a1ed-b1d1665440b0",
   "metadata": {},
   "outputs": [],
   "source": []
  },
  {
   "cell_type": "code",
   "execution_count": 1,
   "id": "cea7f2c9-2254-4ee6-8a82-f560c616112d",
   "metadata": {},
   "outputs": [],
   "source": [
    "import math"
   ]
  },
  {
   "cell_type": "code",
   "execution_count": 51,
   "id": "f2a615bf-651e-4c6a-b804-ccc046484712",
   "metadata": {},
   "outputs": [],
   "source": [
    "class Point():\n",
    "\n",
    "    def __init__(self,x=0, y=0):\n",
    "        self.x = x\n",
    "        self.y = y\n",
    "\n",
    "    def __str__(self,):\n",
    "        return f\"({self.x}, {self.y})\"\n",
    "\n",
    "    def setPoint(self, other):\n",
    "        self.x = other.x\n",
    "        self.y = other.y\n",
    "    \n",
    "    def step(self, x_add, y_add):\n",
    "        self.x += x_add\n",
    "        self.y += y_add\n",
    "\n",
    "    def measure_distance(self, other):\n",
    "        return math.sqrt((other.x - self.x)**2 + (other.y - self.y)**2)"
   ]
  },
  {
   "cell_type": "code",
   "execution_count": null,
   "id": "a5b57758-e093-4d22-bb54-8280ee646df8",
   "metadata": {},
   "outputs": [],
   "source": []
  },
  {
   "cell_type": "code",
   "execution_count": 52,
   "id": "00de79ac-f9b3-4bc5-a32a-18894cbfc6b8",
   "metadata": {},
   "outputs": [],
   "source": [
    "def TestSetup(point, x, y, back):\n",
    "    point.x = int(input())\n",
    "    point.y = int(input())\n",
    "    x = int(input())\n",
    "    y = int(input())\n",
    "    back = int(input())\n"
   ]
  },
  {
   "cell_type": "code",
   "execution_count": null,
   "id": "b5846426-b774-4a6d-958e-16a08fa4e7f1",
   "metadata": {},
   "outputs": [],
   "source": []
  },
  {
   "cell_type": "code",
   "execution_count": 73,
   "id": "f0b174c1-13fc-45f1-855a-c88994a582a8",
   "metadata": {},
   "outputs": [],
   "source": [
    "def TestOutput(destination_point, arrival_point, distance, iterations):\n",
    "    print(f\"Point p: {str(destination_point)}\")\n",
    "    print(f\"Arrival point: {str(arrival_point)}\")\n",
    "    print(f\"Distance between p and arrival {arrival_point.measure_distance(destination_point):.6f}\")\n",
    "    print(f\"Number of iterations: {iterations}\")"
   ]
  },
  {
   "cell_type": "code",
   "execution_count": null,
   "id": "b2b3607d-8b6e-49d1-94f9-f04d3ec8ecc5",
   "metadata": {},
   "outputs": [],
   "source": []
  },
  {
   "cell_type": "code",
   "execution_count": 74,
   "id": "59f6f6ee-5dda-4307-80ec-b820e85efdec",
   "metadata": {},
   "outputs": [],
   "source": [
    "def PrintStatus(curr_p, next_p, curr_d, next_d, i):\n",
    "    print(f\"\\n\\nIter {i} Status:\")\n",
    "    print(curr_p)\n",
    "    print(next_p)\n",
    "    print(curr_d)\n",
    "    print(next_d)\n",
    "    print()"
   ]
  },
  {
   "cell_type": "code",
   "execution_count": null,
   "id": "cceb1f8e-241d-4130-96e0-9c295fcc568b",
   "metadata": {},
   "outputs": [],
   "source": []
  },
  {
   "cell_type": "code",
   "execution_count": 93,
   "id": "6108e68f-3bf0-4215-b78f-5b5e93109e56",
   "metadata": {},
   "outputs": [],
   "source": [
    "def Test():\n",
    "    p = Point()\n",
    "    p.x = int(input())\n",
    "    p.y = int(input())\n",
    "    x_step = int(input())\n",
    "    y_step = int(input())\n",
    "    back_step = int(input())\n",
    "\n",
    "    current_point = Point()\n",
    "    next_point = Point(x_step, y_step)\n",
    "\n",
    "    current_distance = current_point.measure_distance(p)\n",
    "    next_distance = next_point.measure_distance(p)\n",
    "    iteration = 0\n",
    "\n",
    "    PrintStatus(current_point, next_point, current_distance, next_distance, iteration)\n",
    "    \n",
    "    while current_distance > next_distance:\n",
    "\n",
    "        iteration += 1\n",
    "        \n",
    "        if iteration % 3 == 0:\n",
    "            current_point.step(-back_step, -back_step)\n",
    "            #next_point.step(-back_step, -back_step)\n",
    "        else:\n",
    "            current_point.setPoint(next_point)\n",
    "            next_point.step(x_step, y_step)\n",
    "            \n",
    "            current_distance = next_distance\n",
    "            next_distance = next_point.measure_distance(p)\n",
    "\n",
    "        PrintStatus(current_point, next_point, current_distance, next_distance, iteration)\n",
    "\n",
    "    TestOutput(p, current_point, current_distance, iteration)"
   ]
  },
  {
   "cell_type": "code",
   "execution_count": null,
   "id": "48f53587-cce5-454f-b7b4-f55c67803f8f",
   "metadata": {},
   "outputs": [],
   "source": []
  },
  {
   "cell_type": "code",
   "execution_count": 95,
   "id": "39fde47b-bde5-47db-a253-9e87ae99bae2",
   "metadata": {},
   "outputs": [
    {
     "name": "stdin",
     "output_type": "stream",
     "text": [
      " 12\n",
      " 9\n",
      " 4\n",
      " 3\n",
      " 2\n"
     ]
    },
    {
     "name": "stdout",
     "output_type": "stream",
     "text": [
      "\n",
      "\n",
      "Iter 0 Status:\n",
      "(0, 0)\n",
      "(4, 3)\n",
      "15.0\n",
      "10.0\n",
      "\n",
      "\n",
      "\n",
      "Iter 1 Status:\n",
      "(4, 3)\n",
      "(8, 6)\n",
      "10.0\n",
      "5.0\n",
      "\n",
      "\n",
      "\n",
      "Iter 2 Status:\n",
      "(8, 6)\n",
      "(12, 9)\n",
      "5.0\n",
      "0.0\n",
      "\n",
      "\n",
      "\n",
      "Iter 3 Status:\n",
      "(6, 4)\n",
      "(12, 9)\n",
      "5.0\n",
      "0.0\n",
      "\n",
      "\n",
      "\n",
      "Iter 4 Status:\n",
      "(12, 9)\n",
      "(16, 12)\n",
      "0.0\n",
      "5.0\n",
      "\n",
      "Point p: (12, 9)\n",
      "Arrival point: (12, 9)\n",
      "Distance between p and arrival 0.000000\n",
      "Number of iterations: 4\n"
     ]
    }
   ],
   "source": [
    "Test()"
   ]
  },
  {
   "cell_type": "code",
   "execution_count": null,
   "id": "abf8ebed-9fcc-4dd5-8c68-f67a036aa089",
   "metadata": {},
   "outputs": [],
   "source": []
  },
  {
   "cell_type": "markdown",
   "id": "5bf76870-75f8-419e-ace4-e6e0497b8f7a",
   "metadata": {},
   "source": [
    "## Troubleshoot\n",
    "Program works with input:\\\n",
    "( 4, 5, 2, 3, 1 ) && ( 6, 6, 1, 1, 1 )\\\n",
    "\\\n",
    "Breaks with:\\\n",
    "( 5, 8, 2, 3, 1 ) && ( 12, 9, 4, 3, 2 )"
   ]
  },
  {
   "cell_type": "code",
   "execution_count": null,
   "id": "f8d700f4-8c3a-4ff5-aca1-6d12a16572e0",
   "metadata": {},
   "outputs": [],
   "source": []
  }
 ],
 "metadata": {
  "kernelspec": {
   "display_name": "Python 3 (ipykernel)",
   "language": "python",
   "name": "python3"
  },
  "language_info": {
   "codemirror_mode": {
    "name": "ipython",
    "version": 3
   },
   "file_extension": ".py",
   "mimetype": "text/x-python",
   "name": "python",
   "nbconvert_exporter": "python",
   "pygments_lexer": "ipython3",
   "version": "3.13.3"
  }
 },
 "nbformat": 4,
 "nbformat_minor": 5
}
