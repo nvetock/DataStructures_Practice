{
 "cells": [
  {
   "cell_type": "markdown",
   "id": "fbaff4bf-2dd4-471c-8b44-cb5c449b3ace",
   "metadata": {},
   "source": [
    "# Data Structures\n",
    "| Structure | Description |\n",
    "| :-------: | :---------- |\n",
    "| Record | A *record* stores subitems (fields) with a name associated with each subitem. |\n",
    "| Array | An *array* stores an ordered list of items, each item directly accessible by positional index. |\n",
    "| Linked List | A *linked list* stores an ordered list of items in nodes. Each node stores data and has a pointer to the next node. |\n",
    "| Binary Tree | A *binary tree* is made up of nodes, each storing data with up to two (left and right) children. |\n",
    "| Hash Table | A *hash table* stored unordered items by mapping (hashing) each item to a location in an array. |\n",
    "| Heap | A *max-heap* maintains the node's key as greater than or equal to the node's childrens' keys. A *min-heap* maintains the node's key as less than or equal to the node's childrens' keys. |\n",
    "| Graph | A *graph* represents connections among items. Consists of vertices connected by edges. A *vertex* represents an item in a graph. An *edge* represents a connection between two vertices in a graph. |"
   ]
  },
  {
   "cell_type": "markdown",
   "id": "5faeb8eb-2b30-42ef-9ff3-098aaf968336",
   "metadata": {},
   "source": [
    "## Choosing Structure\n",
    "Depends on algorithm needs. Fast insertion, fast searching, memory usage, etc.\n",
    "\n",
    "## Efficient Algs and Hard Problems\n",
    "An efficient algorithm is one whose runtime increases no more than polynomially with respect to input size.\n",
    "### NP-Complete\n",
    "Sets of problems which no known efficient algorithm exists.\\\n",
    "**Problems have following characteristics**\n",
    "- No efficient alg has been found to solve.\n",
    "- No one has *proven* that an efficient alg to solve an NP-complete is impossible\n",
    "- If an efficient alg exists for one NP-complete problem, all NP-complete problems can be solved efficiently"
   ]
  },
  {
   "cell_type": "markdown",
   "id": "157138e3-5779-4b24-a86c-5d5963d1d5b3",
   "metadata": {},
   "source": [
    "---\n",
    "# Abstract Data Types (ADT)\n",
    "| ADT | Description | Structure |\n",
    "| :----: | :------- | :-------- |\n",
    "| List | Holds ordered data | Array, Linked List |\n",
    "| Dynamic Array | Holds ordered data and allows indexed access | Array |\n",
    "| Stack | Last In First Out. Items are only inserted on or removed from the top of a stack. | Linked List |\n",
    "| Queue | First In First Out. Items are inserted at end of queue and removed from the front. | Linked List |\n",
    "| Deque | Double-ended queue. Items can be inserted & removed at front & back. | Linked List |\n",
    "| Bag | Stores items where the order does no matter. Duplicate items are allowed. | Array, Linked List |\n",
    "| Set | Collection of *distinct* items. No duplicates. | Binary Search Tree, Hash Table |\n",
    "| Priority Queue | Queue where each item has a priority. Items with higher priority are closer to the front. | Heap |\n",
    "| Dictionary (Map) | Associates (maps) keys with values | Hash Table, Binary Search Tree |"
   ]
  },
  {
   "cell_type": "markdown",
   "id": "43c9908d-4e93-48f9-a618-3837bc9aa673",
   "metadata": {},
   "source": [
    "---\n",
    "# Algorithm Runtime\n",
    "Time taken for algorithm to execute.\\\n",
    "If each comparison takes 1 microsecond, a linear search's runtime will be 1 second with a list of 1,000,000 elements.\\\n",
    "\\\n",
    "Algorithms commonly use number of steps proportional to size of input.\n",
    "- A list with *n* elements will require *at most* n comparisons. O(n)\n",
    "\n",
    "| Search Type | Max number of steps | Runtime |\n",
    "| :---------- | :-----------------: | :-----: |\n",
    "| Linear | n | O(n) |\n",
    "| Binary | floor(log_2 n) | O(log n) |\n",
    "\n",
    "## Space Complexity\n",
    "Represents the number of fixed-size memory units used by the algorithm for an input of size N.\\\n",
    "An alg that duplicates a list of numbers is S(N) = 2N + k ; where k is a constant representing memory used for things like loop counter and list pointers.\n",
    "### Auxiliary Space Complexity\n",
    "Space complexity not including the input data.\\\n",
    "For example the constant that is fixed no matter what input size.\n",
    "\n",
    "## Computational Complexity\n",
    "Amount of resources used by both runtime and memory"
   ]
  },
  {
   "cell_type": "code",
   "execution_count": null,
   "id": "9cfdabad-5ca4-4cf3-b670-d113d14037f9",
   "metadata": {},
   "outputs": [],
   "source": []
  },
  {
   "cell_type": "code",
   "execution_count": null,
   "id": "05bd8ac9-b8a8-4e7f-8a53-d040a2be1235",
   "metadata": {},
   "outputs": [],
   "source": []
  }
 ],
 "metadata": {
  "kernelspec": {
   "display_name": "Python 3 (ipykernel)",
   "language": "python",
   "name": "python3"
  },
  "language_info": {
   "codemirror_mode": {
    "name": "ipython",
    "version": 3
   },
   "file_extension": ".py",
   "mimetype": "text/x-python",
   "name": "python",
   "nbconvert_exporter": "python",
   "pygments_lexer": "ipython3",
   "version": "3.13.3"
  }
 },
 "nbformat": 4,
 "nbformat_minor": 5
}
